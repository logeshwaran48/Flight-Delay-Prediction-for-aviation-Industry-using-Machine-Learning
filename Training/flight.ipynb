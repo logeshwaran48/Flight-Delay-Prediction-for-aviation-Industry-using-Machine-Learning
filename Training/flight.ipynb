{
 "cells": [
  {
   "cell_type": "code",
   "execution_count": 1,
   "id": "05890d7e",
   "metadata": {},
   "outputs": [],
   "source": [
    "import pandas as pd\n",
    "import numpy as np\n",
    "import pickle\n",
    "import matplotlib.pyplot as plt\n",
    "%matplotlib inline\n",
    "import seaborn as sns\n",
    "import sklearn\n",
    "from sklearn.tree import DecisionTreeClassifier\n",
    "from sklearn.ensemble import GradientBoostingClassifier, RandomForestClassifier\n",
    "from sklearn.neighbors import KNeighborsClassifier\n",
    "from sklearn.model_selection import RandomizedSearchCV\n",
    "import imblearn\n",
    "from sklearn.model_selection import train_test_split\n",
    "from sklearn.preprocessing import StandardScaler\n",
    "from sklearn.metrics import accuracy_score, classification_report, confusion_matrix, f1_score"
   ]
  },
  {
   "cell_type": "code",
   "execution_count": 2,
   "id": "f228dd70",
   "metadata": {},
   "outputs": [],
   "source": [
    "dataset= pd.read_csv(r\"C:\\Users\\ADMIN\\Downloads\\flightdata.csv\")"
   ]
  },
  {
   "cell_type": "code",
   "execution_count": 3,
   "id": "73e9a36d",
   "metadata": {},
   "outputs": [
    {
     "data": {
      "text/html": [
       "<div>\n",
       "<style scoped>\n",
       "    .dataframe tbody tr th:only-of-type {\n",
       "        vertical-align: middle;\n",
       "    }\n",
       "\n",
       "    .dataframe tbody tr th {\n",
       "        vertical-align: top;\n",
       "    }\n",
       "\n",
       "    .dataframe thead th {\n",
       "        text-align: right;\n",
       "    }\n",
       "</style>\n",
       "<table border=\"1\" class=\"dataframe\">\n",
       "  <thead>\n",
       "    <tr style=\"text-align: right;\">\n",
       "      <th></th>\n",
       "      <th>YEAR</th>\n",
       "      <th>QUARTER</th>\n",
       "      <th>MONTH</th>\n",
       "      <th>DAY_OF_MONTH</th>\n",
       "      <th>DAY_OF_WEEK</th>\n",
       "      <th>UNIQUE_CARRIER</th>\n",
       "      <th>TAIL_NUM</th>\n",
       "      <th>FL_NUM</th>\n",
       "      <th>ORIGIN_AIRPORT_ID</th>\n",
       "      <th>ORIGIN</th>\n",
       "      <th>...</th>\n",
       "      <th>CRS_ARR_TIME</th>\n",
       "      <th>ARR_TIME</th>\n",
       "      <th>ARR_DELAY</th>\n",
       "      <th>ARR_DEL15</th>\n",
       "      <th>CANCELLED</th>\n",
       "      <th>DIVERTED</th>\n",
       "      <th>CRS_ELAPSED_TIME</th>\n",
       "      <th>ACTUAL_ELAPSED_TIME</th>\n",
       "      <th>DISTANCE</th>\n",
       "      <th>Unnamed: 25</th>\n",
       "    </tr>\n",
       "  </thead>\n",
       "  <tbody>\n",
       "    <tr>\n",
       "      <th>0</th>\n",
       "      <td>2016</td>\n",
       "      <td>1</td>\n",
       "      <td>1</td>\n",
       "      <td>1</td>\n",
       "      <td>5</td>\n",
       "      <td>DL</td>\n",
       "      <td>N836DN</td>\n",
       "      <td>1399</td>\n",
       "      <td>10397</td>\n",
       "      <td>ATL</td>\n",
       "      <td>...</td>\n",
       "      <td>2143</td>\n",
       "      <td>2102.0</td>\n",
       "      <td>-41.0</td>\n",
       "      <td>0.0</td>\n",
       "      <td>0.0</td>\n",
       "      <td>0.0</td>\n",
       "      <td>338.0</td>\n",
       "      <td>295.0</td>\n",
       "      <td>2182.0</td>\n",
       "      <td>NaN</td>\n",
       "    </tr>\n",
       "    <tr>\n",
       "      <th>1</th>\n",
       "      <td>2016</td>\n",
       "      <td>1</td>\n",
       "      <td>1</td>\n",
       "      <td>1</td>\n",
       "      <td>5</td>\n",
       "      <td>DL</td>\n",
       "      <td>N964DN</td>\n",
       "      <td>1476</td>\n",
       "      <td>11433</td>\n",
       "      <td>DTW</td>\n",
       "      <td>...</td>\n",
       "      <td>1435</td>\n",
       "      <td>1439.0</td>\n",
       "      <td>4.0</td>\n",
       "      <td>0.0</td>\n",
       "      <td>0.0</td>\n",
       "      <td>0.0</td>\n",
       "      <td>110.0</td>\n",
       "      <td>115.0</td>\n",
       "      <td>528.0</td>\n",
       "      <td>NaN</td>\n",
       "    </tr>\n",
       "    <tr>\n",
       "      <th>2</th>\n",
       "      <td>2016</td>\n",
       "      <td>1</td>\n",
       "      <td>1</td>\n",
       "      <td>1</td>\n",
       "      <td>5</td>\n",
       "      <td>DL</td>\n",
       "      <td>N813DN</td>\n",
       "      <td>1597</td>\n",
       "      <td>10397</td>\n",
       "      <td>ATL</td>\n",
       "      <td>...</td>\n",
       "      <td>1215</td>\n",
       "      <td>1142.0</td>\n",
       "      <td>-33.0</td>\n",
       "      <td>0.0</td>\n",
       "      <td>0.0</td>\n",
       "      <td>0.0</td>\n",
       "      <td>335.0</td>\n",
       "      <td>300.0</td>\n",
       "      <td>2182.0</td>\n",
       "      <td>NaN</td>\n",
       "    </tr>\n",
       "    <tr>\n",
       "      <th>3</th>\n",
       "      <td>2016</td>\n",
       "      <td>1</td>\n",
       "      <td>1</td>\n",
       "      <td>1</td>\n",
       "      <td>5</td>\n",
       "      <td>DL</td>\n",
       "      <td>N587NW</td>\n",
       "      <td>1768</td>\n",
       "      <td>14747</td>\n",
       "      <td>SEA</td>\n",
       "      <td>...</td>\n",
       "      <td>1335</td>\n",
       "      <td>1345.0</td>\n",
       "      <td>10.0</td>\n",
       "      <td>0.0</td>\n",
       "      <td>0.0</td>\n",
       "      <td>0.0</td>\n",
       "      <td>196.0</td>\n",
       "      <td>205.0</td>\n",
       "      <td>1399.0</td>\n",
       "      <td>NaN</td>\n",
       "    </tr>\n",
       "    <tr>\n",
       "      <th>4</th>\n",
       "      <td>2016</td>\n",
       "      <td>1</td>\n",
       "      <td>1</td>\n",
       "      <td>1</td>\n",
       "      <td>5</td>\n",
       "      <td>DL</td>\n",
       "      <td>N836DN</td>\n",
       "      <td>1823</td>\n",
       "      <td>14747</td>\n",
       "      <td>SEA</td>\n",
       "      <td>...</td>\n",
       "      <td>607</td>\n",
       "      <td>615.0</td>\n",
       "      <td>8.0</td>\n",
       "      <td>0.0</td>\n",
       "      <td>0.0</td>\n",
       "      <td>0.0</td>\n",
       "      <td>247.0</td>\n",
       "      <td>259.0</td>\n",
       "      <td>1927.0</td>\n",
       "      <td>NaN</td>\n",
       "    </tr>\n",
       "  </tbody>\n",
       "</table>\n",
       "<p>5 rows × 26 columns</p>\n",
       "</div>"
      ],
      "text/plain": [
       "   YEAR  QUARTER  MONTH  DAY_OF_MONTH  DAY_OF_WEEK UNIQUE_CARRIER TAIL_NUM  \\\n",
       "0  2016        1      1             1            5             DL   N836DN   \n",
       "1  2016        1      1             1            5             DL   N964DN   \n",
       "2  2016        1      1             1            5             DL   N813DN   \n",
       "3  2016        1      1             1            5             DL   N587NW   \n",
       "4  2016        1      1             1            5             DL   N836DN   \n",
       "\n",
       "   FL_NUM  ORIGIN_AIRPORT_ID ORIGIN  ...  CRS_ARR_TIME ARR_TIME  ARR_DELAY  \\\n",
       "0    1399              10397    ATL  ...          2143   2102.0      -41.0   \n",
       "1    1476              11433    DTW  ...          1435   1439.0        4.0   \n",
       "2    1597              10397    ATL  ...          1215   1142.0      -33.0   \n",
       "3    1768              14747    SEA  ...          1335   1345.0       10.0   \n",
       "4    1823              14747    SEA  ...           607    615.0        8.0   \n",
       "\n",
       "   ARR_DEL15  CANCELLED  DIVERTED  CRS_ELAPSED_TIME  ACTUAL_ELAPSED_TIME  \\\n",
       "0        0.0        0.0       0.0             338.0                295.0   \n",
       "1        0.0        0.0       0.0             110.0                115.0   \n",
       "2        0.0        0.0       0.0             335.0                300.0   \n",
       "3        0.0        0.0       0.0             196.0                205.0   \n",
       "4        0.0        0.0       0.0             247.0                259.0   \n",
       "\n",
       "   DISTANCE  Unnamed: 25  \n",
       "0    2182.0          NaN  \n",
       "1     528.0          NaN  \n",
       "2    2182.0          NaN  \n",
       "3    1399.0          NaN  \n",
       "4    1927.0          NaN  \n",
       "\n",
       "[5 rows x 26 columns]"
      ]
     },
     "execution_count": 3,
     "metadata": {},
     "output_type": "execute_result"
    }
   ],
   "source": [
    "dataset.head()"
   ]
  },
  {
   "cell_type": "code",
   "execution_count": 4,
   "id": "7510ccca",
   "metadata": {},
   "outputs": [
    {
     "name": "stdout",
     "output_type": "stream",
     "text": [
      "<class 'pandas.core.frame.DataFrame'>\n",
      "RangeIndex: 11231 entries, 0 to 11230\n",
      "Data columns (total 26 columns):\n",
      " #   Column               Non-Null Count  Dtype  \n",
      "---  ------               --------------  -----  \n",
      " 0   YEAR                 11231 non-null  int64  \n",
      " 1   QUARTER              11231 non-null  int64  \n",
      " 2   MONTH                11231 non-null  int64  \n",
      " 3   DAY_OF_MONTH         11231 non-null  int64  \n",
      " 4   DAY_OF_WEEK          11231 non-null  int64  \n",
      " 5   UNIQUE_CARRIER       11231 non-null  object \n",
      " 6   TAIL_NUM             11231 non-null  object \n",
      " 7   FL_NUM               11231 non-null  int64  \n",
      " 8   ORIGIN_AIRPORT_ID    11231 non-null  int64  \n",
      " 9   ORIGIN               11231 non-null  object \n",
      " 10  DEST_AIRPORT_ID      11231 non-null  int64  \n",
      " 11  DEST                 11231 non-null  object \n",
      " 12  CRS_DEP_TIME         11231 non-null  int64  \n",
      " 13  DEP_TIME             11124 non-null  float64\n",
      " 14  DEP_DELAY            11124 non-null  float64\n",
      " 15  DEP_DEL15            11124 non-null  float64\n",
      " 16  CRS_ARR_TIME         11231 non-null  int64  \n",
      " 17  ARR_TIME             11116 non-null  float64\n",
      " 18  ARR_DELAY            11043 non-null  float64\n",
      " 19  ARR_DEL15            11043 non-null  float64\n",
      " 20  CANCELLED            11231 non-null  float64\n",
      " 21  DIVERTED             11231 non-null  float64\n",
      " 22  CRS_ELAPSED_TIME     11231 non-null  float64\n",
      " 23  ACTUAL_ELAPSED_TIME  11043 non-null  float64\n",
      " 24  DISTANCE             11231 non-null  float64\n",
      " 25  Unnamed: 25          0 non-null      float64\n",
      "dtypes: float64(12), int64(10), object(4)\n",
      "memory usage: 2.2+ MB\n"
     ]
    }
   ],
   "source": [
    "dataset.info()"
   ]
  },
  {
   "cell_type": "code",
   "execution_count": 5,
   "id": "dbd8f510",
   "metadata": {},
   "outputs": [
    {
     "data": {
      "text/plain": [
       "YEAR                     0\n",
       "QUARTER                  0\n",
       "MONTH                    0\n",
       "DAY_OF_MONTH             0\n",
       "DAY_OF_WEEK              0\n",
       "UNIQUE_CARRIER           0\n",
       "TAIL_NUM                 0\n",
       "FL_NUM                   0\n",
       "ORIGIN_AIRPORT_ID        0\n",
       "ORIGIN                   0\n",
       "DEST_AIRPORT_ID          0\n",
       "DEST                     0\n",
       "CRS_DEP_TIME             0\n",
       "DEP_TIME               107\n",
       "DEP_DELAY              107\n",
       "DEP_DEL15              107\n",
       "CRS_ARR_TIME             0\n",
       "ARR_TIME               115\n",
       "ARR_DELAY              188\n",
       "ARR_DEL15              188\n",
       "CANCELLED                0\n",
       "DIVERTED                 0\n",
       "CRS_ELAPSED_TIME         0\n",
       "ACTUAL_ELAPSED_TIME    188\n",
       "DISTANCE                 0\n",
       "dtype: int64"
      ]
     },
     "execution_count": 5,
     "metadata": {},
     "output_type": "execute_result"
    }
   ],
   "source": [
    "dataset = dataset.drop('Unnamed: 25',axis=1)\n",
    "dataset.isnull().sum()"
   ]
  },
  {
   "cell_type": "code",
   "execution_count": 6,
   "id": "bc04a587",
   "metadata": {},
   "outputs": [
    {
     "data": {
      "text/plain": [
       "FL_NUM            0\n",
       "MONTH             0\n",
       "DAY_OF_MONTH      0\n",
       "DAY_OF_WEEK       0\n",
       "ORIGIN            0\n",
       "DEST              0\n",
       "CRS_ARR_TIME      0\n",
       "DEP_DEL15       107\n",
       "ARR_DEL15       188\n",
       "dtype: int64"
      ]
     },
     "execution_count": 6,
     "metadata": {},
     "output_type": "execute_result"
    }
   ],
   "source": [
    "dataset = dataset[[\"FL_NUM\", \"MONTH\", \"DAY_OF_MONTH\", \"DAY_OF_WEEK\", \"ORIGIN\", \"DEST\", \"CRS_ARR_TIME\", \"DEP_DEL15\", \"ARR_DEL15\"]]\n",
    "dataset.isnull().sum()"
   ]
  },
  {
   "cell_type": "code",
   "execution_count": 7,
   "id": "37312e89",
   "metadata": {},
   "outputs": [
    {
     "data": {
      "text/html": [
       "<div>\n",
       "<style scoped>\n",
       "    .dataframe tbody tr th:only-of-type {\n",
       "        vertical-align: middle;\n",
       "    }\n",
       "\n",
       "    .dataframe tbody tr th {\n",
       "        vertical-align: top;\n",
       "    }\n",
       "\n",
       "    .dataframe thead th {\n",
       "        text-align: right;\n",
       "    }\n",
       "</style>\n",
       "<table border=\"1\" class=\"dataframe\">\n",
       "  <thead>\n",
       "    <tr style=\"text-align: right;\">\n",
       "      <th></th>\n",
       "      <th>FL_NUM</th>\n",
       "      <th>MONTH</th>\n",
       "      <th>DAY_OF_MONTH</th>\n",
       "      <th>DAY_OF_WEEK</th>\n",
       "      <th>ORIGIN</th>\n",
       "      <th>DEST</th>\n",
       "      <th>CRS_ARR_TIME</th>\n",
       "      <th>DEP_DEL15</th>\n",
       "      <th>ARR_DEL15</th>\n",
       "    </tr>\n",
       "  </thead>\n",
       "  <tbody>\n",
       "    <tr>\n",
       "      <th>177</th>\n",
       "      <td>2834</td>\n",
       "      <td>1</td>\n",
       "      <td>9</td>\n",
       "      <td>6</td>\n",
       "      <td>MSP</td>\n",
       "      <td>SEA</td>\n",
       "      <td>852</td>\n",
       "      <td>0.0</td>\n",
       "      <td>NaN</td>\n",
       "    </tr>\n",
       "    <tr>\n",
       "      <th>179</th>\n",
       "      <td>86</td>\n",
       "      <td>1</td>\n",
       "      <td>10</td>\n",
       "      <td>7</td>\n",
       "      <td>MSP</td>\n",
       "      <td>DTW</td>\n",
       "      <td>1632</td>\n",
       "      <td>NaN</td>\n",
       "      <td>NaN</td>\n",
       "    </tr>\n",
       "    <tr>\n",
       "      <th>184</th>\n",
       "      <td>557</td>\n",
       "      <td>1</td>\n",
       "      <td>10</td>\n",
       "      <td>7</td>\n",
       "      <td>MSP</td>\n",
       "      <td>DTW</td>\n",
       "      <td>912</td>\n",
       "      <td>0.0</td>\n",
       "      <td>NaN</td>\n",
       "    </tr>\n",
       "    <tr>\n",
       "      <th>210</th>\n",
       "      <td>1096</td>\n",
       "      <td>1</td>\n",
       "      <td>10</td>\n",
       "      <td>7</td>\n",
       "      <td>DTW</td>\n",
       "      <td>MSP</td>\n",
       "      <td>1303</td>\n",
       "      <td>NaN</td>\n",
       "      <td>NaN</td>\n",
       "    </tr>\n",
       "    <tr>\n",
       "      <th>478</th>\n",
       "      <td>1542</td>\n",
       "      <td>1</td>\n",
       "      <td>22</td>\n",
       "      <td>5</td>\n",
       "      <td>SEA</td>\n",
       "      <td>JFK</td>\n",
       "      <td>723</td>\n",
       "      <td>NaN</td>\n",
       "      <td>NaN</td>\n",
       "    </tr>\n",
       "    <tr>\n",
       "      <th>481</th>\n",
       "      <td>1795</td>\n",
       "      <td>1</td>\n",
       "      <td>22</td>\n",
       "      <td>5</td>\n",
       "      <td>ATL</td>\n",
       "      <td>JFK</td>\n",
       "      <td>2014</td>\n",
       "      <td>NaN</td>\n",
       "      <td>NaN</td>\n",
       "    </tr>\n",
       "    <tr>\n",
       "      <th>491</th>\n",
       "      <td>2312</td>\n",
       "      <td>1</td>\n",
       "      <td>22</td>\n",
       "      <td>5</td>\n",
       "      <td>MSP</td>\n",
       "      <td>JFK</td>\n",
       "      <td>2149</td>\n",
       "      <td>NaN</td>\n",
       "      <td>NaN</td>\n",
       "    </tr>\n",
       "    <tr>\n",
       "      <th>499</th>\n",
       "      <td>423</td>\n",
       "      <td>1</td>\n",
       "      <td>23</td>\n",
       "      <td>6</td>\n",
       "      <td>JFK</td>\n",
       "      <td>ATL</td>\n",
       "      <td>1600</td>\n",
       "      <td>NaN</td>\n",
       "      <td>NaN</td>\n",
       "    </tr>\n",
       "    <tr>\n",
       "      <th>500</th>\n",
       "      <td>425</td>\n",
       "      <td>1</td>\n",
       "      <td>23</td>\n",
       "      <td>6</td>\n",
       "      <td>JFK</td>\n",
       "      <td>ATL</td>\n",
       "      <td>1827</td>\n",
       "      <td>NaN</td>\n",
       "      <td>NaN</td>\n",
       "    </tr>\n",
       "    <tr>\n",
       "      <th>501</th>\n",
       "      <td>427</td>\n",
       "      <td>1</td>\n",
       "      <td>23</td>\n",
       "      <td>6</td>\n",
       "      <td>JFK</td>\n",
       "      <td>SEA</td>\n",
       "      <td>1053</td>\n",
       "      <td>NaN</td>\n",
       "      <td>NaN</td>\n",
       "    </tr>\n",
       "  </tbody>\n",
       "</table>\n",
       "</div>"
      ],
      "text/plain": [
       "     FL_NUM  MONTH  DAY_OF_MONTH  DAY_OF_WEEK ORIGIN DEST  CRS_ARR_TIME  \\\n",
       "177    2834      1             9            6    MSP  SEA           852   \n",
       "179      86      1            10            7    MSP  DTW          1632   \n",
       "184     557      1            10            7    MSP  DTW           912   \n",
       "210    1096      1            10            7    DTW  MSP          1303   \n",
       "478    1542      1            22            5    SEA  JFK           723   \n",
       "481    1795      1            22            5    ATL  JFK          2014   \n",
       "491    2312      1            22            5    MSP  JFK          2149   \n",
       "499     423      1            23            6    JFK  ATL          1600   \n",
       "500     425      1            23            6    JFK  ATL          1827   \n",
       "501     427      1            23            6    JFK  SEA          1053   \n",
       "\n",
       "     DEP_DEL15  ARR_DEL15  \n",
       "177        0.0        NaN  \n",
       "179        NaN        NaN  \n",
       "184        0.0        NaN  \n",
       "210        NaN        NaN  \n",
       "478        NaN        NaN  \n",
       "481        NaN        NaN  \n",
       "491        NaN        NaN  \n",
       "499        NaN        NaN  \n",
       "500        NaN        NaN  \n",
       "501        NaN        NaN  "
      ]
     },
     "execution_count": 7,
     "metadata": {},
     "output_type": "execute_result"
    }
   ],
   "source": [
    "dataset[dataset.isnull().any(axis=1)].head(10)"
   ]
  },
  {
   "cell_type": "code",
   "execution_count": 8,
   "id": "d47f749a",
   "metadata": {},
   "outputs": [
    {
     "data": {
      "text/plain": [
       "0    0.0\n",
       "Name: DEP_DEL15, dtype: float64"
      ]
     },
     "execution_count": 8,
     "metadata": {},
     "output_type": "execute_result"
    }
   ],
   "source": [
    "dataset['DEP_DEL15'].mode()"
   ]
  },
  {
   "cell_type": "code",
   "execution_count": 9,
   "id": "1cdd2cfd",
   "metadata": {},
   "outputs": [
    {
     "data": {
      "text/html": [
       "<div>\n",
       "<style scoped>\n",
       "    .dataframe tbody tr th:only-of-type {\n",
       "        vertical-align: middle;\n",
       "    }\n",
       "\n",
       "    .dataframe tbody tr th {\n",
       "        vertical-align: top;\n",
       "    }\n",
       "\n",
       "    .dataframe thead th {\n",
       "        text-align: right;\n",
       "    }\n",
       "</style>\n",
       "<table border=\"1\" class=\"dataframe\">\n",
       "  <thead>\n",
       "    <tr style=\"text-align: right;\">\n",
       "      <th></th>\n",
       "      <th>FL_NUM</th>\n",
       "      <th>MONTH</th>\n",
       "      <th>DAY_OF_MONTH</th>\n",
       "      <th>DAY_OF_WEEK</th>\n",
       "      <th>ORIGIN</th>\n",
       "      <th>DEST</th>\n",
       "      <th>CRS_ARR_TIME</th>\n",
       "      <th>DEP_DEL15</th>\n",
       "      <th>ARR_DEL15</th>\n",
       "    </tr>\n",
       "  </thead>\n",
       "  <tbody>\n",
       "    <tr>\n",
       "      <th>177</th>\n",
       "      <td>2834</td>\n",
       "      <td>1</td>\n",
       "      <td>9</td>\n",
       "      <td>6</td>\n",
       "      <td>MSP</td>\n",
       "      <td>SEA</td>\n",
       "      <td>852</td>\n",
       "      <td>0.0</td>\n",
       "      <td>1.0</td>\n",
       "    </tr>\n",
       "    <tr>\n",
       "      <th>178</th>\n",
       "      <td>2839</td>\n",
       "      <td>1</td>\n",
       "      <td>9</td>\n",
       "      <td>6</td>\n",
       "      <td>DTW</td>\n",
       "      <td>JFK</td>\n",
       "      <td>1724</td>\n",
       "      <td>0.0</td>\n",
       "      <td>0.0</td>\n",
       "    </tr>\n",
       "    <tr>\n",
       "      <th>179</th>\n",
       "      <td>86</td>\n",
       "      <td>1</td>\n",
       "      <td>10</td>\n",
       "      <td>7</td>\n",
       "      <td>MSP</td>\n",
       "      <td>DTW</td>\n",
       "      <td>1632</td>\n",
       "      <td>0.0</td>\n",
       "      <td>1.0</td>\n",
       "    </tr>\n",
       "    <tr>\n",
       "      <th>180</th>\n",
       "      <td>87</td>\n",
       "      <td>1</td>\n",
       "      <td>10</td>\n",
       "      <td>7</td>\n",
       "      <td>DTW</td>\n",
       "      <td>MSP</td>\n",
       "      <td>1649</td>\n",
       "      <td>1.0</td>\n",
       "      <td>0.0</td>\n",
       "    </tr>\n",
       "    <tr>\n",
       "      <th>181</th>\n",
       "      <td>423</td>\n",
       "      <td>1</td>\n",
       "      <td>10</td>\n",
       "      <td>7</td>\n",
       "      <td>JFK</td>\n",
       "      <td>ATL</td>\n",
       "      <td>1600</td>\n",
       "      <td>0.0</td>\n",
       "      <td>0.0</td>\n",
       "    </tr>\n",
       "    <tr>\n",
       "      <th>182</th>\n",
       "      <td>440</td>\n",
       "      <td>1</td>\n",
       "      <td>10</td>\n",
       "      <td>7</td>\n",
       "      <td>JFK</td>\n",
       "      <td>ATL</td>\n",
       "      <td>849</td>\n",
       "      <td>0.0</td>\n",
       "      <td>0.0</td>\n",
       "    </tr>\n",
       "    <tr>\n",
       "      <th>183</th>\n",
       "      <td>485</td>\n",
       "      <td>1</td>\n",
       "      <td>10</td>\n",
       "      <td>7</td>\n",
       "      <td>JFK</td>\n",
       "      <td>SEA</td>\n",
       "      <td>1945</td>\n",
       "      <td>1.0</td>\n",
       "      <td>0.0</td>\n",
       "    </tr>\n",
       "    <tr>\n",
       "      <th>184</th>\n",
       "      <td>557</td>\n",
       "      <td>1</td>\n",
       "      <td>10</td>\n",
       "      <td>7</td>\n",
       "      <td>MSP</td>\n",
       "      <td>DTW</td>\n",
       "      <td>912</td>\n",
       "      <td>0.0</td>\n",
       "      <td>1.0</td>\n",
       "    </tr>\n",
       "  </tbody>\n",
       "</table>\n",
       "</div>"
      ],
      "text/plain": [
       "     FL_NUM  MONTH  DAY_OF_MONTH  DAY_OF_WEEK ORIGIN DEST  CRS_ARR_TIME  \\\n",
       "177    2834      1             9            6    MSP  SEA           852   \n",
       "178    2839      1             9            6    DTW  JFK          1724   \n",
       "179      86      1            10            7    MSP  DTW          1632   \n",
       "180      87      1            10            7    DTW  MSP          1649   \n",
       "181     423      1            10            7    JFK  ATL          1600   \n",
       "182     440      1            10            7    JFK  ATL           849   \n",
       "183     485      1            10            7    JFK  SEA          1945   \n",
       "184     557      1            10            7    MSP  DTW           912   \n",
       "\n",
       "     DEP_DEL15  ARR_DEL15  \n",
       "177        0.0        1.0  \n",
       "178        0.0        0.0  \n",
       "179        0.0        1.0  \n",
       "180        1.0        0.0  \n",
       "181        0.0        0.0  \n",
       "182        0.0        0.0  \n",
       "183        1.0        0.0  \n",
       "184        0.0        1.0  "
      ]
     },
     "execution_count": 9,
     "metadata": {},
     "output_type": "execute_result"
    }
   ],
   "source": [
    "dataset = dataset.fillna({'ARR_DEL15':1})\n",
    "dataset = dataset.fillna({'DEP_DEL15':0})\n",
    "dataset.iloc[177:185]"
   ]
  },
  {
   "cell_type": "code",
   "execution_count": 10,
   "id": "0e3ee33c",
   "metadata": {},
   "outputs": [
    {
     "data": {
      "text/html": [
       "<div>\n",
       "<style scoped>\n",
       "    .dataframe tbody tr th:only-of-type {\n",
       "        vertical-align: middle;\n",
       "    }\n",
       "\n",
       "    .dataframe tbody tr th {\n",
       "        vertical-align: top;\n",
       "    }\n",
       "\n",
       "    .dataframe thead th {\n",
       "        text-align: right;\n",
       "    }\n",
       "</style>\n",
       "<table border=\"1\" class=\"dataframe\">\n",
       "  <thead>\n",
       "    <tr style=\"text-align: right;\">\n",
       "      <th></th>\n",
       "      <th>FL_NUM</th>\n",
       "      <th>MONTH</th>\n",
       "      <th>DAY_OF_MONTH</th>\n",
       "      <th>DAY_OF_WEEK</th>\n",
       "      <th>ORIGIN</th>\n",
       "      <th>DEST</th>\n",
       "      <th>CRS_ARR_TIME</th>\n",
       "      <th>DEP_DEL15</th>\n",
       "      <th>ARR_DEL15</th>\n",
       "    </tr>\n",
       "  </thead>\n",
       "  <tbody>\n",
       "    <tr>\n",
       "      <th>0</th>\n",
       "      <td>1399</td>\n",
       "      <td>1</td>\n",
       "      <td>1</td>\n",
       "      <td>5</td>\n",
       "      <td>ATL</td>\n",
       "      <td>SEA</td>\n",
       "      <td>21</td>\n",
       "      <td>0.0</td>\n",
       "      <td>0.0</td>\n",
       "    </tr>\n",
       "    <tr>\n",
       "      <th>1</th>\n",
       "      <td>1476</td>\n",
       "      <td>1</td>\n",
       "      <td>1</td>\n",
       "      <td>5</td>\n",
       "      <td>DTW</td>\n",
       "      <td>MSP</td>\n",
       "      <td>14</td>\n",
       "      <td>0.0</td>\n",
       "      <td>0.0</td>\n",
       "    </tr>\n",
       "    <tr>\n",
       "      <th>2</th>\n",
       "      <td>1597</td>\n",
       "      <td>1</td>\n",
       "      <td>1</td>\n",
       "      <td>5</td>\n",
       "      <td>ATL</td>\n",
       "      <td>SEA</td>\n",
       "      <td>12</td>\n",
       "      <td>0.0</td>\n",
       "      <td>0.0</td>\n",
       "    </tr>\n",
       "    <tr>\n",
       "      <th>3</th>\n",
       "      <td>1768</td>\n",
       "      <td>1</td>\n",
       "      <td>1</td>\n",
       "      <td>5</td>\n",
       "      <td>SEA</td>\n",
       "      <td>MSP</td>\n",
       "      <td>13</td>\n",
       "      <td>0.0</td>\n",
       "      <td>0.0</td>\n",
       "    </tr>\n",
       "    <tr>\n",
       "      <th>4</th>\n",
       "      <td>1823</td>\n",
       "      <td>1</td>\n",
       "      <td>1</td>\n",
       "      <td>5</td>\n",
       "      <td>SEA</td>\n",
       "      <td>DTW</td>\n",
       "      <td>6</td>\n",
       "      <td>0.0</td>\n",
       "      <td>0.0</td>\n",
       "    </tr>\n",
       "  </tbody>\n",
       "</table>\n",
       "</div>"
      ],
      "text/plain": [
       "   FL_NUM  MONTH  DAY_OF_MONTH  DAY_OF_WEEK ORIGIN DEST  CRS_ARR_TIME  \\\n",
       "0    1399      1             1            5    ATL  SEA            21   \n",
       "1    1476      1             1            5    DTW  MSP            14   \n",
       "2    1597      1             1            5    ATL  SEA            12   \n",
       "3    1768      1             1            5    SEA  MSP            13   \n",
       "4    1823      1             1            5    SEA  DTW             6   \n",
       "\n",
       "   DEP_DEL15  ARR_DEL15  \n",
       "0        0.0        0.0  \n",
       "1        0.0        0.0  \n",
       "2        0.0        0.0  \n",
       "3        0.0        0.0  \n",
       "4        0.0        0.0  "
      ]
     },
     "execution_count": 10,
     "metadata": {},
     "output_type": "execute_result"
    }
   ],
   "source": [
    "import math\n",
    "for index, row in dataset.iterrows():\n",
    "    dataset.loc[index, 'CRS_ARR_TIME'] = math.floor(row['CRS_ARR_TIME'] / 100)\n",
    "dataset.head()    "
   ]
  },
  {
   "cell_type": "code",
   "execution_count": 11,
   "id": "459782dc",
   "metadata": {},
   "outputs": [],
   "source": [
    "from sklearn.preprocessing import LabelEncoder\n",
    "le = LabelEncoder()\n",
    "dataset['DEST'] = le.fit_transform(dataset['DEST'])\n",
    "dataset['ORIGIN'] = le.fit_transform(dataset['ORIGIN'])"
   ]
  },
  {
   "cell_type": "code",
   "execution_count": 12,
   "id": "8d80e314",
   "metadata": {},
   "outputs": [
    {
     "data": {
      "text/html": [
       "<div>\n",
       "<style scoped>\n",
       "    .dataframe tbody tr th:only-of-type {\n",
       "        vertical-align: middle;\n",
       "    }\n",
       "\n",
       "    .dataframe tbody tr th {\n",
       "        vertical-align: top;\n",
       "    }\n",
       "\n",
       "    .dataframe thead th {\n",
       "        text-align: right;\n",
       "    }\n",
       "</style>\n",
       "<table border=\"1\" class=\"dataframe\">\n",
       "  <thead>\n",
       "    <tr style=\"text-align: right;\">\n",
       "      <th></th>\n",
       "      <th>FL_NUM</th>\n",
       "      <th>MONTH</th>\n",
       "      <th>DAY_OF_MONTH</th>\n",
       "      <th>DAY_OF_WEEK</th>\n",
       "      <th>ORIGIN</th>\n",
       "      <th>DEST</th>\n",
       "      <th>CRS_ARR_TIME</th>\n",
       "      <th>DEP_DEL15</th>\n",
       "      <th>ARR_DEL15</th>\n",
       "    </tr>\n",
       "  </thead>\n",
       "  <tbody>\n",
       "    <tr>\n",
       "      <th>0</th>\n",
       "      <td>1399</td>\n",
       "      <td>1</td>\n",
       "      <td>1</td>\n",
       "      <td>5</td>\n",
       "      <td>0</td>\n",
       "      <td>4</td>\n",
       "      <td>21</td>\n",
       "      <td>0.0</td>\n",
       "      <td>0.0</td>\n",
       "    </tr>\n",
       "    <tr>\n",
       "      <th>1</th>\n",
       "      <td>1476</td>\n",
       "      <td>1</td>\n",
       "      <td>1</td>\n",
       "      <td>5</td>\n",
       "      <td>1</td>\n",
       "      <td>3</td>\n",
       "      <td>14</td>\n",
       "      <td>0.0</td>\n",
       "      <td>0.0</td>\n",
       "    </tr>\n",
       "    <tr>\n",
       "      <th>2</th>\n",
       "      <td>1597</td>\n",
       "      <td>1</td>\n",
       "      <td>1</td>\n",
       "      <td>5</td>\n",
       "      <td>0</td>\n",
       "      <td>4</td>\n",
       "      <td>12</td>\n",
       "      <td>0.0</td>\n",
       "      <td>0.0</td>\n",
       "    </tr>\n",
       "    <tr>\n",
       "      <th>3</th>\n",
       "      <td>1768</td>\n",
       "      <td>1</td>\n",
       "      <td>1</td>\n",
       "      <td>5</td>\n",
       "      <td>4</td>\n",
       "      <td>3</td>\n",
       "      <td>13</td>\n",
       "      <td>0.0</td>\n",
       "      <td>0.0</td>\n",
       "    </tr>\n",
       "    <tr>\n",
       "      <th>4</th>\n",
       "      <td>1823</td>\n",
       "      <td>1</td>\n",
       "      <td>1</td>\n",
       "      <td>5</td>\n",
       "      <td>4</td>\n",
       "      <td>1</td>\n",
       "      <td>6</td>\n",
       "      <td>0.0</td>\n",
       "      <td>0.0</td>\n",
       "    </tr>\n",
       "  </tbody>\n",
       "</table>\n",
       "</div>"
      ],
      "text/plain": [
       "   FL_NUM  MONTH  DAY_OF_MONTH  DAY_OF_WEEK  ORIGIN  DEST  CRS_ARR_TIME  \\\n",
       "0    1399      1             1            5       0     4            21   \n",
       "1    1476      1             1            5       1     3            14   \n",
       "2    1597      1             1            5       0     4            12   \n",
       "3    1768      1             1            5       4     3            13   \n",
       "4    1823      1             1            5       4     1             6   \n",
       "\n",
       "   DEP_DEL15  ARR_DEL15  \n",
       "0        0.0        0.0  \n",
       "1        0.0        0.0  \n",
       "2        0.0        0.0  \n",
       "3        0.0        0.0  \n",
       "4        0.0        0.0  "
      ]
     },
     "execution_count": 12,
     "metadata": {},
     "output_type": "execute_result"
    }
   ],
   "source": [
    "dataset.head(5)"
   ]
  },
  {
   "cell_type": "code",
   "execution_count": 13,
   "id": "49d0901d",
   "metadata": {},
   "outputs": [
    {
     "data": {
      "text/plain": [
       "array([0, 1, 4, 3, 2])"
      ]
     },
     "execution_count": 13,
     "metadata": {},
     "output_type": "execute_result"
    }
   ],
   "source": [
    "dataset['ORIGIN'].unique()"
   ]
  },
  {
   "cell_type": "code",
   "execution_count": 14,
   "id": "5ec512f8",
   "metadata": {},
   "outputs": [
    {
     "data": {
      "text/html": [
       "<div>\n",
       "<style scoped>\n",
       "    .dataframe tbody tr th:only-of-type {\n",
       "        vertical-align: middle;\n",
       "    }\n",
       "\n",
       "    .dataframe tbody tr th {\n",
       "        vertical-align: top;\n",
       "    }\n",
       "\n",
       "    .dataframe thead th {\n",
       "        text-align: right;\n",
       "    }\n",
       "</style>\n",
       "<table border=\"1\" class=\"dataframe\">\n",
       "  <thead>\n",
       "    <tr style=\"text-align: right;\">\n",
       "      <th></th>\n",
       "      <th>FL_NUM</th>\n",
       "      <th>MONTH</th>\n",
       "      <th>DAY_OF_MONTH</th>\n",
       "      <th>DAY_OF_WEEK</th>\n",
       "      <th>CRS_ARR_TIME</th>\n",
       "      <th>DEP_DEL15</th>\n",
       "      <th>ARR_DEL15</th>\n",
       "      <th>ORIGIN_0</th>\n",
       "      <th>ORIGIN_1</th>\n",
       "      <th>ORIGIN_2</th>\n",
       "      <th>ORIGIN_3</th>\n",
       "      <th>ORIGIN_4</th>\n",
       "      <th>DEST_0</th>\n",
       "      <th>DEST_1</th>\n",
       "      <th>DEST_2</th>\n",
       "      <th>DEST_3</th>\n",
       "      <th>DEST_4</th>\n",
       "    </tr>\n",
       "  </thead>\n",
       "  <tbody>\n",
       "    <tr>\n",
       "      <th>0</th>\n",
       "      <td>1399</td>\n",
       "      <td>1</td>\n",
       "      <td>1</td>\n",
       "      <td>5</td>\n",
       "      <td>21</td>\n",
       "      <td>0.0</td>\n",
       "      <td>0.0</td>\n",
       "      <td>1</td>\n",
       "      <td>0</td>\n",
       "      <td>0</td>\n",
       "      <td>0</td>\n",
       "      <td>0</td>\n",
       "      <td>0</td>\n",
       "      <td>0</td>\n",
       "      <td>0</td>\n",
       "      <td>0</td>\n",
       "      <td>1</td>\n",
       "    </tr>\n",
       "    <tr>\n",
       "      <th>1</th>\n",
       "      <td>1476</td>\n",
       "      <td>1</td>\n",
       "      <td>1</td>\n",
       "      <td>5</td>\n",
       "      <td>14</td>\n",
       "      <td>0.0</td>\n",
       "      <td>0.0</td>\n",
       "      <td>0</td>\n",
       "      <td>1</td>\n",
       "      <td>0</td>\n",
       "      <td>0</td>\n",
       "      <td>0</td>\n",
       "      <td>0</td>\n",
       "      <td>0</td>\n",
       "      <td>0</td>\n",
       "      <td>1</td>\n",
       "      <td>0</td>\n",
       "    </tr>\n",
       "    <tr>\n",
       "      <th>2</th>\n",
       "      <td>1597</td>\n",
       "      <td>1</td>\n",
       "      <td>1</td>\n",
       "      <td>5</td>\n",
       "      <td>12</td>\n",
       "      <td>0.0</td>\n",
       "      <td>0.0</td>\n",
       "      <td>1</td>\n",
       "      <td>0</td>\n",
       "      <td>0</td>\n",
       "      <td>0</td>\n",
       "      <td>0</td>\n",
       "      <td>0</td>\n",
       "      <td>0</td>\n",
       "      <td>0</td>\n",
       "      <td>0</td>\n",
       "      <td>1</td>\n",
       "    </tr>\n",
       "    <tr>\n",
       "      <th>3</th>\n",
       "      <td>1768</td>\n",
       "      <td>1</td>\n",
       "      <td>1</td>\n",
       "      <td>5</td>\n",
       "      <td>13</td>\n",
       "      <td>0.0</td>\n",
       "      <td>0.0</td>\n",
       "      <td>0</td>\n",
       "      <td>0</td>\n",
       "      <td>0</td>\n",
       "      <td>0</td>\n",
       "      <td>1</td>\n",
       "      <td>0</td>\n",
       "      <td>0</td>\n",
       "      <td>0</td>\n",
       "      <td>1</td>\n",
       "      <td>0</td>\n",
       "    </tr>\n",
       "    <tr>\n",
       "      <th>4</th>\n",
       "      <td>1823</td>\n",
       "      <td>1</td>\n",
       "      <td>1</td>\n",
       "      <td>5</td>\n",
       "      <td>6</td>\n",
       "      <td>0.0</td>\n",
       "      <td>0.0</td>\n",
       "      <td>0</td>\n",
       "      <td>0</td>\n",
       "      <td>0</td>\n",
       "      <td>0</td>\n",
       "      <td>1</td>\n",
       "      <td>0</td>\n",
       "      <td>1</td>\n",
       "      <td>0</td>\n",
       "      <td>0</td>\n",
       "      <td>0</td>\n",
       "    </tr>\n",
       "  </tbody>\n",
       "</table>\n",
       "</div>"
      ],
      "text/plain": [
       "   FL_NUM  MONTH  DAY_OF_MONTH  DAY_OF_WEEK  CRS_ARR_TIME  DEP_DEL15  \\\n",
       "0    1399      1             1            5            21        0.0   \n",
       "1    1476      1             1            5            14        0.0   \n",
       "2    1597      1             1            5            12        0.0   \n",
       "3    1768      1             1            5            13        0.0   \n",
       "4    1823      1             1            5             6        0.0   \n",
       "\n",
       "   ARR_DEL15  ORIGIN_0  ORIGIN_1  ORIGIN_2  ORIGIN_3  ORIGIN_4  DEST_0  \\\n",
       "0        0.0         1         0         0         0         0       0   \n",
       "1        0.0         0         1         0         0         0       0   \n",
       "2        0.0         1         0         0         0         0       0   \n",
       "3        0.0         0         0         0         0         1       0   \n",
       "4        0.0         0         0         0         0         1       0   \n",
       "\n",
       "   DEST_1  DEST_2  DEST_3  DEST_4  \n",
       "0       0       0       0       1  \n",
       "1       0       0       1       0  \n",
       "2       0       0       0       1  \n",
       "3       0       0       1       0  \n",
       "4       1       0       0       0  "
      ]
     },
     "execution_count": 14,
     "metadata": {},
     "output_type": "execute_result"
    }
   ],
   "source": [
    "dataset = pd.get_dummies(dataset, columns=['ORIGIN', 'DEST'])\n",
    "dataset.head()"
   ]
  },
  {
   "cell_type": "code",
   "execution_count": 15,
   "id": "710d89db",
   "metadata": {},
   "outputs": [
    {
     "data": {
      "text/plain": [
       "array([[1.399e+03, 1.000e+00, 1.000e+00, ..., 0.000e+00, 0.000e+00,\n",
       "        1.000e+00],\n",
       "       [1.476e+03, 1.000e+00, 1.000e+00, ..., 0.000e+00, 0.000e+00,\n",
       "        0.000e+00],\n",
       "       [1.597e+03, 1.000e+00, 1.000e+00, ..., 0.000e+00, 0.000e+00,\n",
       "        1.000e+00],\n",
       "       ...,\n",
       "       [1.823e+03, 1.200e+01, 3.000e+01, ..., 0.000e+00, 0.000e+00,\n",
       "        0.000e+00],\n",
       "       [1.901e+03, 1.200e+01, 3.000e+01, ..., 0.000e+00, 0.000e+00,\n",
       "        1.000e+00],\n",
       "       [2.005e+03, 1.200e+01, 3.000e+01, ..., 0.000e+00, 0.000e+00,\n",
       "        1.000e+00]])"
      ]
     },
     "execution_count": 15,
     "metadata": {},
     "output_type": "execute_result"
    }
   ],
   "source": [
    "x = dataset.iloc[:, 0:8].values\n",
    "y = dataset.iloc[:, 8:9].values\n",
    "x"
   ]
  },
  {
   "cell_type": "code",
   "execution_count": 16,
   "id": "441c9bec",
   "metadata": {},
   "outputs": [
    {
     "data": {
      "text/plain": [
       "array([[0., 0., 0., ..., 1., 0., 0.],\n",
       "       [0., 0., 0., ..., 0., 0., 0.],\n",
       "       [0., 0., 0., ..., 0., 0., 0.],\n",
       "       ...,\n",
       "       [0., 0., 0., ..., 0., 1., 0.],\n",
       "       [0., 0., 0., ..., 0., 0., 0.],\n",
       "       [0., 0., 0., ..., 0., 0., 0.]])"
      ]
     },
     "execution_count": 16,
     "metadata": {},
     "output_type": "execute_result"
    }
   ],
   "source": [
    "from sklearn.preprocessing import OneHotEncoder\n",
    "oh = OneHotEncoder()\n",
    "z=oh.fit_transform(x[:, 4:5]).toarray()\n",
    "t=oh.fit_transform(x[:, 5:6]).toarray()\n",
    "z"
   ]
  },
  {
   "cell_type": "code",
   "execution_count": 17,
   "id": "e4f22f62",
   "metadata": {},
   "outputs": [
    {
     "data": {
      "text/plain": [
       "array([[1., 0.],\n",
       "       [1., 0.],\n",
       "       [1., 0.],\n",
       "       ...,\n",
       "       [1., 0.],\n",
       "       [1., 0.],\n",
       "       [1., 0.]])"
      ]
     },
     "execution_count": 17,
     "metadata": {},
     "output_type": "execute_result"
    }
   ],
   "source": [
    "t"
   ]
  },
  {
   "cell_type": "code",
   "execution_count": 18,
   "id": "19de1e43",
   "metadata": {},
   "outputs": [],
   "source": [
    "x=np.delete(x,[4,5],axis=1)"
   ]
  },
  {
   "cell_type": "code",
   "execution_count": 19,
   "id": "f1a5b085",
   "metadata": {},
   "outputs": [
    {
     "data": {
      "text/html": [
       "<div>\n",
       "<style scoped>\n",
       "    .dataframe tbody tr th:only-of-type {\n",
       "        vertical-align: middle;\n",
       "    }\n",
       "\n",
       "    .dataframe tbody tr th {\n",
       "        vertical-align: top;\n",
       "    }\n",
       "\n",
       "    .dataframe thead th {\n",
       "        text-align: right;\n",
       "    }\n",
       "</style>\n",
       "<table border=\"1\" class=\"dataframe\">\n",
       "  <thead>\n",
       "    <tr style=\"text-align: right;\">\n",
       "      <th></th>\n",
       "      <th>FL_NUM</th>\n",
       "      <th>MONTH</th>\n",
       "      <th>DAY_OF_MONTH</th>\n",
       "      <th>DAY_OF_WEEK</th>\n",
       "      <th>CRS_ARR_TIME</th>\n",
       "      <th>DEP_DEL15</th>\n",
       "      <th>ARR_DEL15</th>\n",
       "      <th>ORIGIN_0</th>\n",
       "      <th>ORIGIN_1</th>\n",
       "      <th>ORIGIN_2</th>\n",
       "      <th>ORIGIN_3</th>\n",
       "      <th>ORIGIN_4</th>\n",
       "      <th>DEST_0</th>\n",
       "      <th>DEST_1</th>\n",
       "      <th>DEST_2</th>\n",
       "      <th>DEST_3</th>\n",
       "      <th>DEST_4</th>\n",
       "    </tr>\n",
       "  </thead>\n",
       "  <tbody>\n",
       "    <tr>\n",
       "      <th>count</th>\n",
       "      <td>11231.000000</td>\n",
       "      <td>11231.000000</td>\n",
       "      <td>11231.000000</td>\n",
       "      <td>11231.000000</td>\n",
       "      <td>11231.000000</td>\n",
       "      <td>11231.000000</td>\n",
       "      <td>11231.000000</td>\n",
       "      <td>11231.000000</td>\n",
       "      <td>11231.000000</td>\n",
       "      <td>11231.000000</td>\n",
       "      <td>11231.000000</td>\n",
       "      <td>11231.000000</td>\n",
       "      <td>11231.000000</td>\n",
       "      <td>11231.000000</td>\n",
       "      <td>11231.000000</td>\n",
       "      <td>11231.000000</td>\n",
       "      <td>11231.000000</td>\n",
       "    </tr>\n",
       "    <tr>\n",
       "      <th>mean</th>\n",
       "      <td>1334.325617</td>\n",
       "      <td>6.628973</td>\n",
       "      <td>15.790758</td>\n",
       "      <td>3.960199</td>\n",
       "      <td>15.067314</td>\n",
       "      <td>0.141483</td>\n",
       "      <td>0.139168</td>\n",
       "      <td>0.276022</td>\n",
       "      <td>0.195975</td>\n",
       "      <td>0.122340</td>\n",
       "      <td>0.225982</td>\n",
       "      <td>0.179681</td>\n",
       "      <td>0.286795</td>\n",
       "      <td>0.196866</td>\n",
       "      <td>0.116820</td>\n",
       "      <td>0.221975</td>\n",
       "      <td>0.177544</td>\n",
       "    </tr>\n",
       "    <tr>\n",
       "      <th>std</th>\n",
       "      <td>811.875227</td>\n",
       "      <td>3.354678</td>\n",
       "      <td>8.782056</td>\n",
       "      <td>1.995257</td>\n",
       "      <td>5.023534</td>\n",
       "      <td>0.348535</td>\n",
       "      <td>0.346138</td>\n",
       "      <td>0.447048</td>\n",
       "      <td>0.396967</td>\n",
       "      <td>0.327693</td>\n",
       "      <td>0.418246</td>\n",
       "      <td>0.383939</td>\n",
       "      <td>0.452285</td>\n",
       "      <td>0.397648</td>\n",
       "      <td>0.321219</td>\n",
       "      <td>0.415593</td>\n",
       "      <td>0.382146</td>\n",
       "    </tr>\n",
       "    <tr>\n",
       "      <th>min</th>\n",
       "      <td>7.000000</td>\n",
       "      <td>1.000000</td>\n",
       "      <td>1.000000</td>\n",
       "      <td>1.000000</td>\n",
       "      <td>0.000000</td>\n",
       "      <td>0.000000</td>\n",
       "      <td>0.000000</td>\n",
       "      <td>0.000000</td>\n",
       "      <td>0.000000</td>\n",
       "      <td>0.000000</td>\n",
       "      <td>0.000000</td>\n",
       "      <td>0.000000</td>\n",
       "      <td>0.000000</td>\n",
       "      <td>0.000000</td>\n",
       "      <td>0.000000</td>\n",
       "      <td>0.000000</td>\n",
       "      <td>0.000000</td>\n",
       "    </tr>\n",
       "    <tr>\n",
       "      <th>25%</th>\n",
       "      <td>624.000000</td>\n",
       "      <td>4.000000</td>\n",
       "      <td>8.000000</td>\n",
       "      <td>2.000000</td>\n",
       "      <td>11.000000</td>\n",
       "      <td>0.000000</td>\n",
       "      <td>0.000000</td>\n",
       "      <td>0.000000</td>\n",
       "      <td>0.000000</td>\n",
       "      <td>0.000000</td>\n",
       "      <td>0.000000</td>\n",
       "      <td>0.000000</td>\n",
       "      <td>0.000000</td>\n",
       "      <td>0.000000</td>\n",
       "      <td>0.000000</td>\n",
       "      <td>0.000000</td>\n",
       "      <td>0.000000</td>\n",
       "    </tr>\n",
       "    <tr>\n",
       "      <th>50%</th>\n",
       "      <td>1267.000000</td>\n",
       "      <td>7.000000</td>\n",
       "      <td>16.000000</td>\n",
       "      <td>4.000000</td>\n",
       "      <td>15.000000</td>\n",
       "      <td>0.000000</td>\n",
       "      <td>0.000000</td>\n",
       "      <td>0.000000</td>\n",
       "      <td>0.000000</td>\n",
       "      <td>0.000000</td>\n",
       "      <td>0.000000</td>\n",
       "      <td>0.000000</td>\n",
       "      <td>0.000000</td>\n",
       "      <td>0.000000</td>\n",
       "      <td>0.000000</td>\n",
       "      <td>0.000000</td>\n",
       "      <td>0.000000</td>\n",
       "    </tr>\n",
       "    <tr>\n",
       "      <th>75%</th>\n",
       "      <td>2032.000000</td>\n",
       "      <td>9.000000</td>\n",
       "      <td>23.000000</td>\n",
       "      <td>6.000000</td>\n",
       "      <td>19.000000</td>\n",
       "      <td>0.000000</td>\n",
       "      <td>0.000000</td>\n",
       "      <td>1.000000</td>\n",
       "      <td>0.000000</td>\n",
       "      <td>0.000000</td>\n",
       "      <td>0.000000</td>\n",
       "      <td>0.000000</td>\n",
       "      <td>1.000000</td>\n",
       "      <td>0.000000</td>\n",
       "      <td>0.000000</td>\n",
       "      <td>0.000000</td>\n",
       "      <td>0.000000</td>\n",
       "    </tr>\n",
       "    <tr>\n",
       "      <th>max</th>\n",
       "      <td>2853.000000</td>\n",
       "      <td>12.000000</td>\n",
       "      <td>31.000000</td>\n",
       "      <td>7.000000</td>\n",
       "      <td>23.000000</td>\n",
       "      <td>1.000000</td>\n",
       "      <td>1.000000</td>\n",
       "      <td>1.000000</td>\n",
       "      <td>1.000000</td>\n",
       "      <td>1.000000</td>\n",
       "      <td>1.000000</td>\n",
       "      <td>1.000000</td>\n",
       "      <td>1.000000</td>\n",
       "      <td>1.000000</td>\n",
       "      <td>1.000000</td>\n",
       "      <td>1.000000</td>\n",
       "      <td>1.000000</td>\n",
       "    </tr>\n",
       "  </tbody>\n",
       "</table>\n",
       "</div>"
      ],
      "text/plain": [
       "             FL_NUM         MONTH  DAY_OF_MONTH   DAY_OF_WEEK  CRS_ARR_TIME  \\\n",
       "count  11231.000000  11231.000000  11231.000000  11231.000000  11231.000000   \n",
       "mean    1334.325617      6.628973     15.790758      3.960199     15.067314   \n",
       "std      811.875227      3.354678      8.782056      1.995257      5.023534   \n",
       "min        7.000000      1.000000      1.000000      1.000000      0.000000   \n",
       "25%      624.000000      4.000000      8.000000      2.000000     11.000000   \n",
       "50%     1267.000000      7.000000     16.000000      4.000000     15.000000   \n",
       "75%     2032.000000      9.000000     23.000000      6.000000     19.000000   \n",
       "max     2853.000000     12.000000     31.000000      7.000000     23.000000   \n",
       "\n",
       "          DEP_DEL15     ARR_DEL15      ORIGIN_0      ORIGIN_1      ORIGIN_2  \\\n",
       "count  11231.000000  11231.000000  11231.000000  11231.000000  11231.000000   \n",
       "mean       0.141483      0.139168      0.276022      0.195975      0.122340   \n",
       "std        0.348535      0.346138      0.447048      0.396967      0.327693   \n",
       "min        0.000000      0.000000      0.000000      0.000000      0.000000   \n",
       "25%        0.000000      0.000000      0.000000      0.000000      0.000000   \n",
       "50%        0.000000      0.000000      0.000000      0.000000      0.000000   \n",
       "75%        0.000000      0.000000      1.000000      0.000000      0.000000   \n",
       "max        1.000000      1.000000      1.000000      1.000000      1.000000   \n",
       "\n",
       "           ORIGIN_3      ORIGIN_4        DEST_0        DEST_1        DEST_2  \\\n",
       "count  11231.000000  11231.000000  11231.000000  11231.000000  11231.000000   \n",
       "mean       0.225982      0.179681      0.286795      0.196866      0.116820   \n",
       "std        0.418246      0.383939      0.452285      0.397648      0.321219   \n",
       "min        0.000000      0.000000      0.000000      0.000000      0.000000   \n",
       "25%        0.000000      0.000000      0.000000      0.000000      0.000000   \n",
       "50%        0.000000      0.000000      0.000000      0.000000      0.000000   \n",
       "75%        0.000000      0.000000      1.000000      0.000000      0.000000   \n",
       "max        1.000000      1.000000      1.000000      1.000000      1.000000   \n",
       "\n",
       "             DEST_3        DEST_4  \n",
       "count  11231.000000  11231.000000  \n",
       "mean       0.221975      0.177544  \n",
       "std        0.415593      0.382146  \n",
       "min        0.000000      0.000000  \n",
       "25%        0.000000      0.000000  \n",
       "50%        0.000000      0.000000  \n",
       "75%        0.000000      0.000000  \n",
       "max        1.000000      1.000000  "
      ]
     },
     "execution_count": 19,
     "metadata": {},
     "output_type": "execute_result"
    }
   ],
   "source": [
    "dataset.describe()"
   ]
  },
  {
   "cell_type": "code",
   "execution_count": 20,
   "id": "db33700a",
   "metadata": {},
   "outputs": [
    {
     "name": "stderr",
     "output_type": "stream",
     "text": [
      "C:\\Users\\ADMIN\\anaconda3\\lib\\site-packages\\seaborn\\distributions.py:2619: FutureWarning: `distplot` is a deprecated function and will be removed in a future version. Please adapt your code to use either `displot` (a figure-level function with similar flexibility) or `histplot` (an axes-level function for histograms).\n",
      "  warnings.warn(msg, FutureWarning)\n"
     ]
    },
    {
     "data": {
      "text/plain": [
       "<AxesSubplot:xlabel='MONTH', ylabel='Density'>"
      ]
     },
     "execution_count": 20,
     "metadata": {},
     "output_type": "execute_result"
    },
    {
     "data": {
      "image/png": "[encoded data removed]",
      "text/plain": [
       "<Figure size 640x480 with 1 Axes>"
      ]
     },
     "metadata": {},
     "output_type": "display_data"
    }
   ],
   "source": [
    "sns.distplot(dataset.MONTH)"
   ]
  },
  {
   "cell_type": "code",
   "execution_count": 21,
   "id": "ecb3b125",
   "metadata": {},
   "outputs": [
    {
     "data": {
      "text/plain": [
       "<AxesSubplot:xlabel='FL_NUM', ylabel='ARR_DEL15'>"
      ]
     },
     "execution_count": 21,
     "metadata": {},
     "output_type": "execute_result"
    },
    {
     "data": {
      "image/png": "[encoded data removed]",
      "text/plain": [
       "<Figure size 640x480 with 1 Axes>"
      ]
     },
     "metadata": {},
     "output_type": "display_data"
    }
   ],
   "source": [
    "sns.scatterplot(x='FL_NUM',y='ARR_DEL15',data=dataset)"
   ]
  },
  {
   "cell_type": "code",
   "execution_count": 22,
   "id": "07338953",
   "metadata": {},
   "outputs": [
    {
     "data": {
      "text/plain": [
       "<seaborn.axisgrid.FacetGrid at 0x1fa522853a0>"
      ]
     },
     "execution_count": 22,
     "metadata": {},
     "output_type": "execute_result"
    },
    {
     "data": {
      "image/png": "[encoded data removed]",
      "text/plain": [
       "<Figure size 500x500 with 1 Axes>"
      ]
     },
     "metadata": {},
     "output_type": "display_data"
    }
   ],
   "source": [
    "sns.catplot(x=\"ARR_DEL15\",y=\"FL_NUM\",kind='bar',data=dataset)"
   ]
  },
  {
   "cell_type": "code",
   "execution_count": 23,
   "id": "57977597",
   "metadata": {},
   "outputs": [
    {
     "data": {
      "text/plain": [
       "<AxesSubplot:>"
      ]
     },
     "execution_count": 23,
     "metadata": {},
     "output_type": "execute_result"
    },
    {
     "data": {
      "image/png": "[encoded data removed]",
      "text/plain": [
       "<Figure size 640x480 with 2 Axes>"
      ]
     },
     "metadata": {},
     "output_type": "display_data"
    }
   ],
   "source": [
    "sns.heatmap(dataset.corr())"
   ]
  },
  {
   "cell_type": "code",
   "execution_count": 24,
   "id": "4a976f03",
   "metadata": {},
   "outputs": [
    {
     "data": {
      "text/html": [
       "<div>\n",
       "<style scoped>\n",
       "    .dataframe tbody tr th:only-of-type {\n",
       "        vertical-align: middle;\n",
       "    }\n",
       "\n",
       "    .dataframe tbody tr th {\n",
       "        vertical-align: top;\n",
       "    }\n",
       "\n",
       "    .dataframe thead th {\n",
       "        text-align: right;\n",
       "    }\n",
       "</style>\n",
       "<table border=\"1\" class=\"dataframe\">\n",
       "  <thead>\n",
       "    <tr style=\"text-align: right;\">\n",
       "      <th></th>\n",
       "      <th>FL_NUM</th>\n",
       "      <th>MONTH</th>\n",
       "      <th>DAY_OF_MONTH</th>\n",
       "      <th>DAY_OF_WEEK</th>\n",
       "      <th>CRS_ARR_TIME</th>\n",
       "      <th>DEP_DEL15</th>\n",
       "      <th>ARR_DEL15</th>\n",
       "      <th>ORIGIN_0</th>\n",
       "      <th>ORIGIN_2</th>\n",
       "      <th>ORIGIN_3</th>\n",
       "      <th>ORIGIN_4</th>\n",
       "      <th>DEST_0</th>\n",
       "      <th>DEST_2</th>\n",
       "      <th>DEST_3</th>\n",
       "      <th>DEST_4</th>\n",
       "      <th>ORIGIN_1_0</th>\n",
       "      <th>ORIGIN_1_1</th>\n",
       "      <th>DEST_1_0</th>\n",
       "      <th>DEST_1_1</th>\n",
       "    </tr>\n",
       "  </thead>\n",
       "  <tbody>\n",
       "    <tr>\n",
       "      <th>0</th>\n",
       "      <td>1399</td>\n",
       "      <td>1</td>\n",
       "      <td>1</td>\n",
       "      <td>5</td>\n",
       "      <td>21</td>\n",
       "      <td>0.0</td>\n",
       "      <td>0.0</td>\n",
       "      <td>1</td>\n",
       "      <td>0</td>\n",
       "      <td>0</td>\n",
       "      <td>0</td>\n",
       "      <td>0</td>\n",
       "      <td>0</td>\n",
       "      <td>0</td>\n",
       "      <td>1</td>\n",
       "      <td>1</td>\n",
       "      <td>0</td>\n",
       "      <td>1</td>\n",
       "      <td>0</td>\n",
       "    </tr>\n",
       "    <tr>\n",
       "      <th>1</th>\n",
       "      <td>1476</td>\n",
       "      <td>1</td>\n",
       "      <td>1</td>\n",
       "      <td>5</td>\n",
       "      <td>14</td>\n",
       "      <td>0.0</td>\n",
       "      <td>0.0</td>\n",
       "      <td>0</td>\n",
       "      <td>0</td>\n",
       "      <td>0</td>\n",
       "      <td>0</td>\n",
       "      <td>0</td>\n",
       "      <td>0</td>\n",
       "      <td>1</td>\n",
       "      <td>0</td>\n",
       "      <td>0</td>\n",
       "      <td>1</td>\n",
       "      <td>1</td>\n",
       "      <td>0</td>\n",
       "    </tr>\n",
       "    <tr>\n",
       "      <th>2</th>\n",
       "      <td>1597</td>\n",
       "      <td>1</td>\n",
       "      <td>1</td>\n",
       "      <td>5</td>\n",
       "      <td>12</td>\n",
       "      <td>0.0</td>\n",
       "      <td>0.0</td>\n",
       "      <td>1</td>\n",
       "      <td>0</td>\n",
       "      <td>0</td>\n",
       "      <td>0</td>\n",
       "      <td>0</td>\n",
       "      <td>0</td>\n",
       "      <td>0</td>\n",
       "      <td>1</td>\n",
       "      <td>1</td>\n",
       "      <td>0</td>\n",
       "      <td>1</td>\n",
       "      <td>0</td>\n",
       "    </tr>\n",
       "    <tr>\n",
       "      <th>3</th>\n",
       "      <td>1768</td>\n",
       "      <td>1</td>\n",
       "      <td>1</td>\n",
       "      <td>5</td>\n",
       "      <td>13</td>\n",
       "      <td>0.0</td>\n",
       "      <td>0.0</td>\n",
       "      <td>0</td>\n",
       "      <td>0</td>\n",
       "      <td>0</td>\n",
       "      <td>1</td>\n",
       "      <td>0</td>\n",
       "      <td>0</td>\n",
       "      <td>1</td>\n",
       "      <td>0</td>\n",
       "      <td>1</td>\n",
       "      <td>0</td>\n",
       "      <td>1</td>\n",
       "      <td>0</td>\n",
       "    </tr>\n",
       "    <tr>\n",
       "      <th>4</th>\n",
       "      <td>1823</td>\n",
       "      <td>1</td>\n",
       "      <td>1</td>\n",
       "      <td>5</td>\n",
       "      <td>6</td>\n",
       "      <td>0.0</td>\n",
       "      <td>0.0</td>\n",
       "      <td>0</td>\n",
       "      <td>0</td>\n",
       "      <td>0</td>\n",
       "      <td>1</td>\n",
       "      <td>0</td>\n",
       "      <td>0</td>\n",
       "      <td>0</td>\n",
       "      <td>0</td>\n",
       "      <td>1</td>\n",
       "      <td>0</td>\n",
       "      <td>0</td>\n",
       "      <td>1</td>\n",
       "    </tr>\n",
       "  </tbody>\n",
       "</table>\n",
       "</div>"
      ],
      "text/plain": [
       "   FL_NUM  MONTH  DAY_OF_MONTH  DAY_OF_WEEK  CRS_ARR_TIME  DEP_DEL15  \\\n",
       "0    1399      1             1            5            21        0.0   \n",
       "1    1476      1             1            5            14        0.0   \n",
       "2    1597      1             1            5            12        0.0   \n",
       "3    1768      1             1            5            13        0.0   \n",
       "4    1823      1             1            5             6        0.0   \n",
       "\n",
       "   ARR_DEL15  ORIGIN_0  ORIGIN_2  ORIGIN_3  ORIGIN_4  DEST_0  DEST_2  DEST_3  \\\n",
       "0        0.0         1         0         0         0       0       0       0   \n",
       "1        0.0         0         0         0         0       0       0       1   \n",
       "2        0.0         1         0         0         0       0       0       0   \n",
       "3        0.0         0         0         0         1       0       0       1   \n",
       "4        0.0         0         0         0         1       0       0       0   \n",
       "\n",
       "   DEST_4  ORIGIN_1_0  ORIGIN_1_1  DEST_1_0  DEST_1_1  \n",
       "0       1           1           0         1         0  \n",
       "1       0           0           1         1         0  \n",
       "2       1           1           0         1         0  \n",
       "3       0           1           0         1         0  \n",
       "4       0           1           0         0         1  "
      ]
     },
     "execution_count": 24,
     "metadata": {},
     "output_type": "execute_result"
    }
   ],
   "source": [
    "dataset = pd.get_dummies(dataset, columns=['ORIGIN_1', 'DEST_1'])\n",
    "dataset.head()"
   ]
  },
  {
   "cell_type": "code",
   "execution_count": 25,
   "id": "6abf7c2f",
   "metadata": {},
   "outputs": [],
   "source": [
    "x = dataset.iloc[:, 0:8].values\n",
    "y = dataset.iloc[:, 8:9].values"
   ]
  },
  {
   "cell_type": "code",
   "execution_count": 26,
   "id": "574a2b7b",
   "metadata": {},
   "outputs": [
    {
     "data": {
      "text/plain": [
       "array([[1.768e+03, 6.000e+00, 1.300e+01, ..., 0.000e+00, 0.000e+00,\n",
       "        0.000e+00],\n",
       "       [4.530e+02, 1.100e+01, 1.100e+01, ..., 0.000e+00, 0.000e+00,\n",
       "        0.000e+00],\n",
       "       [4.200e+01, 7.000e+00, 3.000e+01, ..., 0.000e+00, 1.000e+00,\n",
       "        1.000e+00],\n",
       "       ...,\n",
       "       [9.400e+01, 1.100e+01, 1.900e+01, ..., 0.000e+00, 0.000e+00,\n",
       "        0.000e+00],\n",
       "       [1.057e+03, 1.200e+01, 1.900e+01, ..., 1.000e+00, 1.000e+00,\n",
       "        1.000e+00],\n",
       "       [1.653e+03, 4.000e+00, 1.100e+01, ..., 0.000e+00, 0.000e+00,\n",
       "        0.000e+00]])"
      ]
     },
     "execution_count": 26,
     "metadata": {},
     "output_type": "execute_result"
    }
   ],
   "source": [
    "from sklearn.model_selection import train_test_split\n",
    "x_train,x_test,y_train,y_test = train_test_split(x,y,test_size=0.2,random_state=0)\n",
    "x_train"
   ]
  },
  {
   "cell_type": "code",
   "execution_count": 27,
   "id": "90549de2",
   "metadata": {},
   "outputs": [],
   "source": [
    "from sklearn.model_selection import train_test_split\n",
    "train_x,test_x,train_y,test_y = train_test_split(dataset.drop('ARR_DEL15',axis=1), dataset['ARR_DEL15'], test_size=0.2, random_state=0)"
   ]
  },
  {
   "cell_type": "code",
   "execution_count": 28,
   "id": "4f39f9d7",
   "metadata": {},
   "outputs": [
    {
     "data": {
      "text/plain": [
       "(2247, 8)"
      ]
     },
     "execution_count": 28,
     "metadata": {},
     "output_type": "execute_result"
    }
   ],
   "source": [
    "x_test.shape"
   ]
  },
  {
   "cell_type": "code",
   "execution_count": 29,
   "id": "a3b187ab",
   "metadata": {},
   "outputs": [
    {
     "data": {
      "text/plain": [
       "(8984, 8)"
      ]
     },
     "execution_count": 29,
     "metadata": {},
     "output_type": "execute_result"
    }
   ],
   "source": [
    "x_train.shape"
   ]
  },
  {
   "cell_type": "code",
   "execution_count": 30,
   "id": "37d6d571",
   "metadata": {},
   "outputs": [
    {
     "data": {
      "text/plain": [
       "(2247, 1)"
      ]
     },
     "execution_count": 30,
     "metadata": {},
     "output_type": "execute_result"
    }
   ],
   "source": [
    "y_test.shape"
   ]
  },
  {
   "cell_type": "code",
   "execution_count": 31,
   "id": "39695172",
   "metadata": {},
   "outputs": [
    {
     "data": {
      "text/plain": [
       "(8984, 1)"
      ]
     },
     "execution_count": 31,
     "metadata": {},
     "output_type": "execute_result"
    }
   ],
   "source": [
    "y_train.shape"
   ]
  },
  {
   "cell_type": "code",
   "execution_count": 32,
   "id": "92c504c1",
   "metadata": {},
   "outputs": [],
   "source": [
    "from sklearn.preprocessing import StandardScaler\n",
    "sc = StandardScaler()\n",
    "x_train = sc.fit_transform(x_train)\n",
    "x_test = sc.transform(x_test)"
   ]
  },
  {
   "cell_type": "code",
   "execution_count": 33,
   "id": "1fd43a6d",
   "metadata": {},
   "outputs": [
    {
     "data": {
      "text/plain": [
       "DecisionTreeClassifier(random_state=1)"
      ]
     },
     "execution_count": 33,
     "metadata": {},
     "output_type": "execute_result"
    }
   ],
   "source": [
    "from sklearn.tree import DecisionTreeClassifier\n",
    "classifier = DecisionTreeClassifier(random_state = 1)\n",
    "classifier.fit(x_train,y_train)\n",
    "classifier"
   ]
  },
  {
   "cell_type": "code",
   "execution_count": 34,
   "id": "f80e2d50",
   "metadata": {},
   "outputs": [],
   "source": [
    "decisiontree = classifier.predict(x_test)"
   ]
  },
  {
   "cell_type": "code",
   "execution_count": 35,
   "id": "b1e2e15d",
   "metadata": {},
   "outputs": [
    {
     "data": {
      "text/plain": [
       "array([0, 0, 0, ..., 0, 0, 0], dtype=uint8)"
      ]
     },
     "execution_count": 35,
     "metadata": {},
     "output_type": "execute_result"
    }
   ],
   "source": [
    "decisiontree"
   ]
  },
  {
   "cell_type": "code",
   "execution_count": 36,
   "id": "70a55519",
   "metadata": {},
   "outputs": [],
   "source": [
    "from sklearn.metrics import accuracy_score\n",
    "desacc = accuracy_score(y_test,decisiontree)"
   ]
  },
  {
   "cell_type": "code",
   "execution_count": 37,
   "id": "55de169e",
   "metadata": {},
   "outputs": [],
   "source": [
    "from sklearn.ensemble import RandomForestClassifier\n",
    "rfc = RandomForestClassifier(n_estimators=10,criterion='entropy')"
   ]
  },
  {
   "cell_type": "code",
   "execution_count": 38,
   "id": "5dd451ce",
   "metadata": {},
   "outputs": [
    {
     "name": "stderr",
     "output_type": "stream",
     "text": [
      "C:\\Users\\ADMIN\\AppData\\Local\\Temp\\ipykernel_5208\\4070307935.py:1: DataConversionWarning: A column-vector y was passed when a 1d array was expected. Please change the shape of y to (n_samples,), for example using ravel().\n",
      "  rfc.fit(x_train,y_train)\n"
     ]
    },
    {
     "data": {
      "text/plain": [
       "RandomForestClassifier(criterion='entropy', n_estimators=10)"
      ]
     },
     "execution_count": 38,
     "metadata": {},
     "output_type": "execute_result"
    }
   ],
   "source": [
    "rfc.fit(x_train,y_train)"
   ]
  },
  {
   "cell_type": "code",
   "execution_count": 39,
   "id": "5fd7edbb",
   "metadata": {},
   "outputs": [],
   "source": [
    "y_predict = rfc.predict(x_test)\n"
   ]
  },
  {
   "cell_type": "code",
   "execution_count": 40,
   "id": "b67aecce",
   "metadata": {},
   "outputs": [],
   "source": [
    "import tensorflow\n",
    "from tensorflow.keras.models import Sequential\n",
    "from tensorflow.keras.layers import Dense"
   ]
  },
  {
   "cell_type": "code",
   "execution_count": 41,
   "id": "62a246fe",
   "metadata": {},
   "outputs": [],
   "source": [
    "classification = Sequential()\n",
    "classification.add(Dense(30,activation='relu'))\n",
    "classification.add(Dense(128,activation='relu'))\n",
    "classification.add(Dense(64,activation='relu'))\n",
    "classification.add(Dense(32,activation='relu'))\n",
    "classification.add(Dense(1,activation='relu'))"
   ]
  },
  {
   "cell_type": "code",
   "execution_count": 42,
   "id": "e70a4fce",
   "metadata": {},
   "outputs": [],
   "source": [
    "classification.compile(optimizer='adam',loss='binary_crossentropy',metrics=['accuracy'])"
   ]
  },
  {
   "cell_type": "code",
   "execution_count": 43,
   "id": "68e3a8f7",
   "metadata": {},
   "outputs": [
    {
     "name": "stdout",
     "output_type": "stream",
     "text": [
      "Epoch 1/100\n",
      "1797/1797 [==============================] - 16s 7ms/step - loss: 1.8672 - accuracy: 0.8789 - val_loss: 1.9571 - val_accuracy: 0.8731\n",
      "Epoch 2/100\n",
      "1797/1797 [==============================] - 12s 7ms/step - loss: 1.8672 - accuracy: 0.8789 - val_loss: 1.9571 - val_accuracy: 0.8731\n",
      "Epoch 3/100\n",
      "1797/1797 [==============================] - 12s 6ms/step - loss: 1.8672 - accuracy: 0.8789 - val_loss: 1.9571 - val_accuracy: 0.8731\n",
      "Epoch 4/100\n",
      "1797/1797 [==============================] - 12s 6ms/step - loss: 1.8672 - accuracy: 0.8789 - val_loss: 1.9571 - val_accuracy: 0.8731\n",
      "Epoch 5/100\n",
      "1797/1797 [==============================] - 11s 6ms/step - loss: 1.8672 - accuracy: 0.8789 - val_loss: 1.9571 - val_accuracy: 0.8731\n",
      "Epoch 6/100\n",
      "1797/1797 [==============================] - 11s 6ms/step - loss: 1.8672 - accuracy: 0.8789 - val_loss: 1.9571 - val_accuracy: 0.8731\n",
      "Epoch 7/100\n",
      "1797/1797 [==============================] - 11s 6ms/step - loss: 1.8672 - accuracy: 0.8789 - val_loss: 1.9571 - val_accuracy: 0.8731\n",
      "Epoch 8/100\n",
      "1797/1797 [==============================] - 11s 6ms/step - loss: 1.8672 - accuracy: 0.8789 - val_loss: 1.9571 - val_accuracy: 0.8731\n",
      "Epoch 9/100\n",
      "1797/1797 [==============================] - 11s 6ms/step - loss: 1.8672 - accuracy: 0.8789 - val_loss: 1.9571 - val_accuracy: 0.8731\n",
      "Epoch 10/100\n",
      "1797/1797 [==============================] - 12s 6ms/step - loss: 1.8672 - accuracy: 0.8789 - val_loss: 1.9571 - val_accuracy: 0.8731\n",
      "Epoch 11/100\n",
      "1797/1797 [==============================] - 12s 6ms/step - loss: 1.8672 - accuracy: 0.8789 - val_loss: 1.9571 - val_accuracy: 0.8731\n",
      "Epoch 12/100\n",
      "1797/1797 [==============================] - 12s 7ms/step - loss: 1.8672 - accuracy: 0.8789 - val_loss: 1.9571 - val_accuracy: 0.8731\n",
      "Epoch 13/100\n",
      "1797/1797 [==============================] - 13s 7ms/step - loss: 1.8672 - accuracy: 0.8789 - val_loss: 1.9571 - val_accuracy: 0.8731\n",
      "Epoch 14/100\n",
      "1797/1797 [==============================] - 13s 7ms/step - loss: 1.8672 - accuracy: 0.8789 - val_loss: 1.9571 - val_accuracy: 0.8731\n",
      "Epoch 15/100\n",
      "1797/1797 [==============================] - 13s 7ms/step - loss: 1.8672 - accuracy: 0.8789 - val_loss: 1.9571 - val_accuracy: 0.8731\n",
      "Epoch 16/100\n",
      "1797/1797 [==============================] - 12s 7ms/step - loss: 1.8672 - accuracy: 0.8789 - val_loss: 1.9571 - val_accuracy: 0.8731\n",
      "Epoch 17/100\n",
      "1797/1797 [==============================] - 12s 7ms/step - loss: 1.8672 - accuracy: 0.8789 - val_loss: 1.9571 - val_accuracy: 0.8731\n",
      "Epoch 18/100\n",
      "1797/1797 [==============================] - 14s 8ms/step - loss: 1.8672 - accuracy: 0.8789 - val_loss: 1.9571 - val_accuracy: 0.8731\n",
      "Epoch 19/100\n",
      "1797/1797 [==============================] - 12s 7ms/step - loss: 1.8672 - accuracy: 0.8789 - val_loss: 1.9571 - val_accuracy: 0.8731\n",
      "Epoch 20/100\n",
      "1797/1797 [==============================] - 11s 6ms/step - loss: 1.8672 - accuracy: 0.8789 - val_loss: 1.9571 - val_accuracy: 0.8731\n",
      "Epoch 21/100\n",
      "1797/1797 [==============================] - 12s 6ms/step - loss: 1.8672 - accuracy: 0.8789 - val_loss: 1.9571 - val_accuracy: 0.8731\n",
      "Epoch 22/100\n",
      "1797/1797 [==============================] - 12s 7ms/step - loss: 1.8672 - accuracy: 0.8789 - val_loss: 1.9571 - val_accuracy: 0.8731\n",
      "Epoch 23/100\n",
      "1797/1797 [==============================] - 12s 7ms/step - loss: 1.8672 - accuracy: 0.8789 - val_loss: 1.9571 - val_accuracy: 0.8731\n",
      "Epoch 24/100\n",
      "1797/1797 [==============================] - 12s 6ms/step - loss: 1.8672 - accuracy: 0.8789 - val_loss: 1.9571 - val_accuracy: 0.8731\n",
      "Epoch 25/100\n",
      "1797/1797 [==============================] - 12s 7ms/step - loss: 1.8672 - accuracy: 0.8789 - val_loss: 1.9571 - val_accuracy: 0.8731\n",
      "Epoch 26/100\n",
      "1797/1797 [==============================] - 12s 7ms/step - loss: 1.8672 - accuracy: 0.8789 - val_loss: 1.9571 - val_accuracy: 0.8731\n",
      "Epoch 27/100\n",
      "1797/1797 [==============================] - 12s 7ms/step - loss: 1.8672 - accuracy: 0.8789 - val_loss: 1.9571 - val_accuracy: 0.8731\n",
      "Epoch 28/100\n",
      "1797/1797 [==============================] - 12s 7ms/step - loss: 1.8672 - accuracy: 0.8789 - val_loss: 1.9571 - val_accuracy: 0.8731\n",
      "Epoch 29/100\n",
      "1797/1797 [==============================] - 12s 7ms/step - loss: 1.8672 - accuracy: 0.8789 - val_loss: 1.9571 - val_accuracy: 0.8731\n",
      "Epoch 30/100\n",
      "1797/1797 [==============================] - 12s 7ms/step - loss: 1.8672 - accuracy: 0.8789 - val_loss: 1.9571 - val_accuracy: 0.8731\n",
      "Epoch 31/100\n",
      "1797/1797 [==============================] - 12s 7ms/step - loss: 1.8672 - accuracy: 0.8789 - val_loss: 1.9571 - val_accuracy: 0.8731\n",
      "Epoch 32/100\n",
      "1797/1797 [==============================] - 12s 7ms/step - loss: 1.8672 - accuracy: 0.8789 - val_loss: 1.9571 - val_accuracy: 0.8731\n",
      "Epoch 33/100\n",
      "1797/1797 [==============================] - 12s 7ms/step - loss: 1.8672 - accuracy: 0.8789 - val_loss: 1.9571 - val_accuracy: 0.8731\n",
      "Epoch 34/100\n",
      "1797/1797 [==============================] - 12s 7ms/step - loss: 1.8672 - accuracy: 0.8789 - val_loss: 1.9571 - val_accuracy: 0.8731\n",
      "Epoch 35/100\n",
      "1797/1797 [==============================] - 12s 7ms/step - loss: 1.8672 - accuracy: 0.8789 - val_loss: 1.9571 - val_accuracy: 0.8731\n",
      "Epoch 36/100\n",
      "1797/1797 [==============================] - 12s 7ms/step - loss: 1.8672 - accuracy: 0.8789 - val_loss: 1.9571 - val_accuracy: 0.8731\n",
      "Epoch 37/100\n",
      "1797/1797 [==============================] - 12s 7ms/step - loss: 1.8672 - accuracy: 0.8789 - val_loss: 1.9571 - val_accuracy: 0.8731\n",
      "Epoch 38/100\n",
      "1797/1797 [==============================] - 12s 7ms/step - loss: 1.8672 - accuracy: 0.8789 - val_loss: 1.9571 - val_accuracy: 0.8731\n",
      "Epoch 39/100\n",
      "1797/1797 [==============================] - 12s 7ms/step - loss: 1.8672 - accuracy: 0.8789 - val_loss: 1.9571 - val_accuracy: 0.8731\n",
      "Epoch 40/100\n",
      "1797/1797 [==============================] - 12s 7ms/step - loss: 1.8672 - accuracy: 0.8789 - val_loss: 1.9571 - val_accuracy: 0.8731\n",
      "Epoch 41/100\n",
      "1797/1797 [==============================] - 12s 7ms/step - loss: 1.8672 - accuracy: 0.8789 - val_loss: 1.9571 - val_accuracy: 0.8731\n",
      "Epoch 42/100\n",
      "1797/1797 [==============================] - 10s 6ms/step - loss: 1.8672 - accuracy: 0.8789 - val_loss: 1.9571 - val_accuracy: 0.8731\n",
      "Epoch 43/100\n",
      "1797/1797 [==============================] - 9s 5ms/step - loss: 1.8672 - accuracy: 0.8789 - val_loss: 1.9571 - val_accuracy: 0.8731\n",
      "Epoch 44/100\n",
      "1797/1797 [==============================] - 9s 5ms/step - loss: 1.8672 - accuracy: 0.8789 - val_loss: 1.9571 - val_accuracy: 0.8731\n",
      "Epoch 45/100\n",
      "1797/1797 [==============================] - 8s 5ms/step - loss: 1.8672 - accuracy: 0.8789 - val_loss: 1.9571 - val_accuracy: 0.8731\n",
      "Epoch 46/100\n",
      "1797/1797 [==============================] - 9s 5ms/step - loss: 1.8672 - accuracy: 0.8789 - val_loss: 1.9571 - val_accuracy: 0.8731\n",
      "Epoch 47/100\n",
      "1797/1797 [==============================] - 9s 5ms/step - loss: 1.8672 - accuracy: 0.8789 - val_loss: 1.9571 - val_accuracy: 0.8731\n",
      "Epoch 48/100\n",
      "1797/1797 [==============================] - 11s 6ms/step - loss: 1.8672 - accuracy: 0.8789 - val_loss: 1.9571 - val_accuracy: 0.8731\n",
      "Epoch 49/100\n",
      "1797/1797 [==============================] - 9s 5ms/step - loss: 1.8672 - accuracy: 0.8789 - val_loss: 1.9571 - val_accuracy: 0.8731\n",
      "Epoch 50/100\n",
      "1797/1797 [==============================] - 9s 5ms/step - loss: 1.8672 - accuracy: 0.8789 - val_loss: 1.9571 - val_accuracy: 0.8731\n",
      "Epoch 51/100\n",
      "1797/1797 [==============================] - 9s 5ms/step - loss: 1.8672 - accuracy: 0.8789 - val_loss: 1.9571 - val_accuracy: 0.8731\n",
      "Epoch 52/100\n",
      "1797/1797 [==============================] - 9s 5ms/step - loss: 1.8672 - accuracy: 0.8789 - val_loss: 1.9571 - val_accuracy: 0.8731\n",
      "Epoch 53/100\n",
      "1797/1797 [==============================] - 9s 5ms/step - loss: 1.8672 - accuracy: 0.8789 - val_loss: 1.9571 - val_accuracy: 0.8731\n",
      "Epoch 54/100\n",
      "1797/1797 [==============================] - 9s 5ms/step - loss: 1.8672 - accuracy: 0.8789 - val_loss: 1.9571 - val_accuracy: 0.8731\n",
      "Epoch 55/100\n",
      "1797/1797 [==============================] - 9s 5ms/step - loss: 1.8672 - accuracy: 0.8789 - val_loss: 1.9571 - val_accuracy: 0.8731\n",
      "Epoch 56/100\n",
      "1797/1797 [==============================] - 9s 5ms/step - loss: 1.8672 - accuracy: 0.8789 - val_loss: 1.9571 - val_accuracy: 0.8731\n"
     ]
    },
    {
     "name": "stdout",
     "output_type": "stream",
     "text": [
      "Epoch 57/100\n",
      "1797/1797 [==============================] - 9s 5ms/step - loss: 1.8672 - accuracy: 0.8789 - val_loss: 1.9571 - val_accuracy: 0.8731\n",
      "Epoch 58/100\n",
      "1797/1797 [==============================] - 9s 5ms/step - loss: 1.8672 - accuracy: 0.8789 - val_loss: 1.9571 - val_accuracy: 0.8731\n",
      "Epoch 59/100\n",
      "1797/1797 [==============================] - 9s 5ms/step - loss: 1.8672 - accuracy: 0.8789 - val_loss: 1.9571 - val_accuracy: 0.8731\n",
      "Epoch 60/100\n",
      "1797/1797 [==============================] - 9s 5ms/step - loss: 1.8672 - accuracy: 0.8789 - val_loss: 1.9571 - val_accuracy: 0.8731\n",
      "Epoch 61/100\n",
      "1797/1797 [==============================] - 9s 5ms/step - loss: 1.8672 - accuracy: 0.8789 - val_loss: 1.9571 - val_accuracy: 0.8731\n",
      "Epoch 62/100\n",
      "1797/1797 [==============================] - 9s 5ms/step - loss: 1.8672 - accuracy: 0.8789 - val_loss: 1.9571 - val_accuracy: 0.8731\n",
      "Epoch 63/100\n",
      "1797/1797 [==============================] - 9s 5ms/step - loss: 1.8672 - accuracy: 0.8789 - val_loss: 1.9571 - val_accuracy: 0.8731\n",
      "Epoch 64/100\n",
      "1797/1797 [==============================] - 9s 5ms/step - loss: 1.8672 - accuracy: 0.8789 - val_loss: 1.9571 - val_accuracy: 0.8731\n",
      "Epoch 65/100\n",
      "1797/1797 [==============================] - 9s 5ms/step - loss: 1.8672 - accuracy: 0.8789 - val_loss: 1.9571 - val_accuracy: 0.8731\n",
      "Epoch 66/100\n",
      "1797/1797 [==============================] - 9s 5ms/step - loss: 1.8672 - accuracy: 0.8789 - val_loss: 1.9571 - val_accuracy: 0.8731\n",
      "Epoch 67/100\n",
      "1797/1797 [==============================] - 9s 5ms/step - loss: 1.8672 - accuracy: 0.8789 - val_loss: 1.9571 - val_accuracy: 0.8731\n",
      "Epoch 68/100\n",
      "1797/1797 [==============================] - 9s 5ms/step - loss: 1.8672 - accuracy: 0.8789 - val_loss: 1.9571 - val_accuracy: 0.8731\n",
      "Epoch 69/100\n",
      "1797/1797 [==============================] - 9s 5ms/step - loss: 1.8672 - accuracy: 0.8789 - val_loss: 1.9571 - val_accuracy: 0.8731\n",
      "Epoch 70/100\n",
      "1797/1797 [==============================] - 9s 5ms/step - loss: 1.8672 - accuracy: 0.8789 - val_loss: 1.9571 - val_accuracy: 0.8731\n",
      "Epoch 71/100\n",
      "1797/1797 [==============================] - 9s 5ms/step - loss: 1.8672 - accuracy: 0.8789 - val_loss: 1.9571 - val_accuracy: 0.8731\n",
      "Epoch 72/100\n",
      "1797/1797 [==============================] - 9s 5ms/step - loss: 1.8672 - accuracy: 0.8789 - val_loss: 1.9571 - val_accuracy: 0.8731\n",
      "Epoch 73/100\n",
      "1797/1797 [==============================] - 9s 5ms/step - loss: 1.8672 - accuracy: 0.8789 - val_loss: 1.9571 - val_accuracy: 0.8731\n",
      "Epoch 74/100\n",
      "1797/1797 [==============================] - 9s 5ms/step - loss: 1.8672 - accuracy: 0.8789 - val_loss: 1.9571 - val_accuracy: 0.8731\n",
      "Epoch 75/100\n",
      "1797/1797 [==============================] - 9s 5ms/step - loss: 1.8672 - accuracy: 0.8789 - val_loss: 1.9571 - val_accuracy: 0.8731\n",
      "Epoch 76/100\n",
      "1797/1797 [==============================] - 9s 5ms/step - loss: 1.8672 - accuracy: 0.8789 - val_loss: 1.9571 - val_accuracy: 0.8731\n",
      "Epoch 77/100\n",
      "1797/1797 [==============================] - 9s 5ms/step - loss: 1.8672 - accuracy: 0.8789 - val_loss: 1.9571 - val_accuracy: 0.8731\n",
      "Epoch 78/100\n",
      "1797/1797 [==============================] - 9s 5ms/step - loss: 1.8672 - accuracy: 0.8789 - val_loss: 1.9571 - val_accuracy: 0.8731\n",
      "Epoch 79/100\n",
      "1797/1797 [==============================] - 9s 5ms/step - loss: 1.8672 - accuracy: 0.8789 - val_loss: 1.9571 - val_accuracy: 0.8731\n",
      "Epoch 80/100\n",
      "1797/1797 [==============================] - 9s 5ms/step - loss: 1.8672 - accuracy: 0.8789 - val_loss: 1.9571 - val_accuracy: 0.8731\n",
      "Epoch 81/100\n",
      "1797/1797 [==============================] - 9s 5ms/step - loss: 1.8672 - accuracy: 0.8789 - val_loss: 1.9571 - val_accuracy: 0.8731\n",
      "Epoch 82/100\n",
      "1797/1797 [==============================] - 9s 5ms/step - loss: 1.8672 - accuracy: 0.8789 - val_loss: 1.9571 - val_accuracy: 0.8731\n",
      "Epoch 83/100\n",
      "1797/1797 [==============================] - 9s 5ms/step - loss: 1.8672 - accuracy: 0.8789 - val_loss: 1.9571 - val_accuracy: 0.8731\n",
      "Epoch 84/100\n",
      "1797/1797 [==============================] - 9s 5ms/step - loss: 1.8672 - accuracy: 0.8789 - val_loss: 1.9571 - val_accuracy: 0.8731\n",
      "Epoch 85/100\n",
      "1797/1797 [==============================] - 9s 5ms/step - loss: 1.8672 - accuracy: 0.8789 - val_loss: 1.9571 - val_accuracy: 0.8731\n",
      "Epoch 86/100\n",
      "1797/1797 [==============================] - 9s 5ms/step - loss: 1.8672 - accuracy: 0.8789 - val_loss: 1.9571 - val_accuracy: 0.8731\n",
      "Epoch 87/100\n",
      "1797/1797 [==============================] - 9s 5ms/step - loss: 1.8672 - accuracy: 0.8789 - val_loss: 1.9571 - val_accuracy: 0.8731\n",
      "Epoch 88/100\n",
      "1797/1797 [==============================] - 9s 5ms/step - loss: 1.8672 - accuracy: 0.8789 - val_loss: 1.9571 - val_accuracy: 0.8731\n",
      "Epoch 89/100\n",
      "1797/1797 [==============================] - 9s 5ms/step - loss: 1.8672 - accuracy: 0.8789 - val_loss: 1.9571 - val_accuracy: 0.8731\n",
      "Epoch 90/100\n",
      "1797/1797 [==============================] - 9s 5ms/step - loss: 1.8672 - accuracy: 0.8789 - val_loss: 1.9571 - val_accuracy: 0.8731\n",
      "Epoch 91/100\n",
      "1797/1797 [==============================] - 9s 5ms/step - loss: 1.8672 - accuracy: 0.8789 - val_loss: 1.9571 - val_accuracy: 0.8731\n",
      "Epoch 92/100\n",
      "1797/1797 [==============================] - 9s 5ms/step - loss: 1.8672 - accuracy: 0.8789 - val_loss: 1.9571 - val_accuracy: 0.8731\n",
      "Epoch 93/100\n",
      "1797/1797 [==============================] - 9s 5ms/step - loss: 1.8672 - accuracy: 0.8789 - val_loss: 1.9571 - val_accuracy: 0.8731\n",
      "Epoch 94/100\n",
      "1797/1797 [==============================] - 9s 5ms/step - loss: 1.8672 - accuracy: 0.8789 - val_loss: 1.9571 - val_accuracy: 0.8731\n",
      "Epoch 95/100\n",
      "1797/1797 [==============================] - 9s 5ms/step - loss: 1.8672 - accuracy: 0.8789 - val_loss: 1.9571 - val_accuracy: 0.8731\n",
      "Epoch 96/100\n",
      "1797/1797 [==============================] - 9s 5ms/step - loss: 1.8672 - accuracy: 0.8789 - val_loss: 1.9571 - val_accuracy: 0.8731\n",
      "Epoch 97/100\n",
      "1797/1797 [==============================] - 9s 5ms/step - loss: 1.8672 - accuracy: 0.8789 - val_loss: 1.9571 - val_accuracy: 0.8731\n",
      "Epoch 98/100\n",
      "1797/1797 [==============================] - 9s 5ms/step - loss: 1.8672 - accuracy: 0.8789 - val_loss: 1.9571 - val_accuracy: 0.8731\n",
      "Epoch 99/100\n",
      "1797/1797 [==============================] - 9s 5ms/step - loss: 1.8672 - accuracy: 0.8789 - val_loss: 1.9571 - val_accuracy: 0.8731\n",
      "Epoch 100/100\n",
      "1797/1797 [==============================] - 9s 5ms/step - loss: 1.8672 - accuracy: 0.8789 - val_loss: 1.9571 - val_accuracy: 0.8731\n"
     ]
    },
    {
     "data": {
      "text/plain": [
       "<keras.callbacks.History at 0x1fa5ed27f70>"
      ]
     },
     "execution_count": 43,
     "metadata": {},
     "output_type": "execute_result"
    }
   ],
   "source": [
    "classification.fit(x_train,y_train,batch_size=4,validation_split=0.2,epochs=100)"
   ]
  },
  {
   "cell_type": "code",
   "execution_count": 44,
   "id": "33acf97c",
   "metadata": {},
   "outputs": [
    {
     "ename": "SyntaxError",
     "evalue": "invalid syntax (2733632434.py, line 1)",
     "output_type": "error",
     "traceback": [
      "\u001b[1;36m  File \u001b[1;32m\"C:\\Users\\ADMIN\\AppData\\Local\\Temp\\ipykernel_5208\\2733632434.py\"\u001b[1;36m, line \u001b[1;32m1\u001b[0m\n\u001b[1;33m    y_pred = classifier.\"predict\"([[129,99,1,0,0,1,0,1,1,1,0,1,1,1,1,1]])\u001b[0m\n\u001b[1;37m                        ^\u001b[0m\n\u001b[1;31mSyntaxError\u001b[0m\u001b[1;31m:\u001b[0m invalid syntax\n"
     ]
    }
   ],
   "source": [
    "\n",
    "y_pred = classifier.\"predict\"([[129,99,1,0,0,1,0,1,1,1,0,1,1,1,1,1]])\n",
    "print(y_pred)\n",
    "(y_pred) "
   ]
  },
  {
   "cell_type": "code",
   "execution_count": null,
   "id": "672c29a4",
   "metadata": {},
   "outputs": [],
   "source": [
    "y_pred = rfc.predict([[129,99,1,0,0,1,0,1,1,1,0,1,1,1,1,1]])\n",
    "print(y_pred)\n",
    "(y_pred)"
   ]
  },
  {
   "cell_type": "code",
   "execution_count": null,
   "id": "88b46fa8",
   "metadata": {},
   "outputs": [],
   "source": [
    "classification.save('flight.h5')"
   ]
  },
  {
   "cell_type": "code",
   "execution_count": null,
   "id": "97882eb2",
   "metadata": {},
   "outputs": [],
   "source": [
    "y_pred = classification.predict(x_test)"
   ]
  },
  {
   "cell_type": "code",
   "execution_count": null,
   "id": "9f367e43",
   "metadata": {},
   "outputs": [],
   "source": [
    "y_pred"
   ]
  },
  {
   "cell_type": "code",
   "execution_count": null,
   "id": "d8b50909",
   "metadata": {},
   "outputs": [],
   "source": [
    "y_pred = (y_pred > 0.5)\n",
    "y_pred"
   ]
  },
  {
   "cell_type": "code",
   "execution_count": null,
   "id": "9431a40a",
   "metadata": {},
   "outputs": [],
   "source": [
    "def predict_exit(sample_value):"
   ]
  },
  {
   "cell_type": "code",
   "execution_count": null,
   "id": "a522858a",
   "metadata": {},
   "outputs": [],
   "source": [
    "    sample_value=np.array(sample_value)"
   ]
  },
  {
   "cell_type": "code",
   "execution_count": null,
   "id": "8b0cf9d9",
   "metadata": {},
   "outputs": [],
   "source": [
    "sample_value = sample_value.reshape(1, -1)"
   ]
  },
  {
   "cell_type": "code",
   "execution_count": null,
   "id": "5480ecd4",
   "metadata": {},
   "outputs": [],
   "source": [
    "sample_value = sc.transform(sample_value)\n",
    "return classifier.predict(sample_value)"
   ]
  },
  {
   "cell_type": "code",
   "execution_count": null,
   "id": "947f2833",
   "metadata": {},
   "outputs": [],
   "source": [
    "test=classification.predict([[1,1,121.000000,36.0,0,0,1,0,1,1,1,1,1,1,1,1]])\n",
    "if test==1:\n",
    "    print('prediction: Chance of delay')\n",
    "else:\n",
    "    print('prediction: No chance of delay.')"
   ]
  },
  {
   "cell_type": "code",
   "execution_count": null,
   "id": "78d96c40",
   "metadata": {},
   "outputs": [],
   "source": [
    "from sklearn import model_selection\n",
    "from sklearn.neural_network import MLPClassifier"
   ]
  },
  {
   "cell_type": "code",
   "execution_count": null,
   "id": "2c9c986e",
   "metadata": {},
   "outputs": [],
   "source": [
    "dfs = []\n",
    "models = [\n",
    "          ('RF', RandomForestClassifier()),\n",
    "          ('DecisionTree',DecisionTreeClassifier()),\n",
    "          ('ANN',MLPClassifier())\n",
    "         ]    \n",
    "results = []\n",
    "    names = []\n",
    "    scoring = ['accuracy', 'precision_weighted', 'recall_weight', 'f1_weight', 'roc_auc']\n",
    "    target_names = ['no delay', 'delay']\n",
    "    for name, model in models:\n",
    "        kfold = model_selection.kFlod(n_splits=5, shuffle=True, random_state=90210)\n",
    "        cv_result = model_selection.cross_validate(model, x_train, y_train, cv=kfold, scoring=scoring)\n",
    "        clf = model.fit(x_train, y_train)\n",
    "        y_pred = clf.predict(x_test)\n",
    "        print(name)\n",
    "        print(classification_report(y_test, y_pred, target_names=target_names))\n",
    "        results.append(cv_results)\n",
    "        names.append(name)\n",
    "        this_df = pd.DataFrame(cv_results)\n",
    "        this_df['model'] = name\n",
    "        dfs.append(this_df)\n",
    "final = pd.concat(dfs, ignore_index=True)\n",
    "return final\n",
    "    "
   ]
  },
  {
   "cell_type": "code",
   "execution_count": null,
   "id": "3066cf76",
   "metadata": {},
   "outputs": [],
   "source": [
    "print('Training accuray: ',accuracy_score(y_train,y_predict_train))\n",
    "print('Testing accuracy: ',accuracy_score(y_test,y_predict))"
   ]
  },
  {
   "cell_type": "code",
   "execution_count": null,
   "id": "ecfac3a1",
   "metadata": {},
   "outputs": [],
   "source": [
    "from sklearn.metrics import confusion_matrix\n",
    "cm = confusion_matrix(y_test, y_predict)\n",
    "cm"
   ]
  },
  {
   "cell_type": "code",
   "execution_count": null,
   "id": "d17963fc",
   "metadata": {},
   "outputs": [],
   "source": [
    "parameters = {\n",
    "               'n_estimators' : [1,20,30,55,68,74,90,120,115],\n",
    "                'criterion':['gini', 'entropy'],\n",
    "               'max_features' : [\"auto\", \"sqrt\", \"log2\"],\n",
    "     'max_depth' : [2,5,8,10], 'verbose' : [1,2,3,4,6,8,9,10]\n",
    "}"
   ]
  },
  {
   "cell_type": "code",
   "execution_count": null,
   "id": "3fd9a2a4",
   "metadata": {},
   "outputs": [],
   "source": [
    "RCV = RandomizedSearchCV(estimator=rf,param_distributions=parameters,cv=10,n_iter=4)"
   ]
  },
  {
   "cell_type": "code",
   "execution_count": null,
   "id": "c3b1f986",
   "metadata": {},
   "outputs": [],
   "source": [
    "RCV.fit(x_train,y_train)"
   ]
  },
  {
   "cell_type": "code",
   "execution_count": null,
   "id": "7a7a2fed",
   "metadata": {},
   "outputs": [],
   "source": [
    "bt_params = RCV.best_params_\n",
    "bt_score = RCV.best_score"
   ]
  },
  {
   "cell_type": "code",
   "execution_count": null,
   "id": "646ef641",
   "metadata": {},
   "outputs": [],
   "source": [
    "bt_params"
   ]
  },
  {
   "cell_type": "code",
   "execution_count": null,
   "id": "16d97b34",
   "metadata": {},
   "outputs": [],
   "source": [
    "bt_score"
   ]
  },
  {
   "cell_type": "code",
   "execution_count": null,
   "id": "dcdcbcdc",
   "metadata": {},
   "outputs": [],
   "source": [
    "model = RandomForestClassifier(verbose= 10, n_estimators= 120, max_features= 'log2',max_depth= 10,criterion= 'entropy')\n",
    "RCV.fit(x_train,y_train)"
   ]
  },
  {
   "cell_type": "code",
   "execution_count": null,
   "id": "f3164ba6",
   "metadata": {},
   "outputs": [],
   "source": [
    "y_predict_rf = RCV.predict(x_test)"
   ]
  },
  {
   "cell_type": "code",
   "execution_count": null,
   "id": "dd4c5dc0",
   "metadata": {},
   "outputs": [],
   "source": [
    "RFC=accuracy_score(y_test,y_predict_rf)\n",
    "RFC"
   ]
  },
  {
   "cell_type": "code",
   "execution_count": null,
   "id": "57047a47",
   "metadata": {},
   "outputs": [],
   "source": [
    "import pickle\n",
    "pickle.dump(RCV,open('flight.pkl','wb'))"
   ]
  },
  {
   "cell_type": "code",
   "execution_count": null,
   "id": "7763e77d",
   "metadata": {},
   "outputs": [],
   "source": [
    "from flask import Flask,request,render_template\n",
    "import numpy as np\n",
    "import pandas as pd\n",
    "import pickle\n",
    "import os"
   ]
  },
  {
   "cell_type": "code",
   "execution_count": null,
   "id": "bbfa2bc1",
   "metadata": {},
   "outputs": [],
   "source": [
    "model = pickle.load(open('flight.pkl','rb'))\n",
    "app = Flask(_name_)"
   ]
  },
  {
   "cell_type": "code",
   "execution_count": null,
   "id": "315fd33b",
   "metadata": {},
   "outputs": [],
   "source": [
    "@app.route('/')\n",
    "def home():\n",
    "    return render_template(\"index.html\")\n",
    "@app.route('/prediction',methods = ['POST'])"
   ]
  },
  {
   "cell_type": "code",
   "execution_count": null,
   "id": "31146458",
   "metadata": {},
   "outputs": [],
   "source": [
    "def predict() :\n",
    "    name = request.form['name']\n",
    "    month = request.form['month']\n",
    "    dayofmonth = request.form['dayofmonth']\n",
    "    dayofweek = request.form['dayofweek']\n",
    "    origin = request.form['oringin']\n",
    "    if(origin == \"msp\") :\n",
    "        origin1,origin2,origin3,origin4,origin5 = 0,0,0,0,1\n",
    "    if(origin == \"dtw\") :\n",
    "        origin1,origin2,origin3,origin4,origin5 = 1,0,0,0,0\n",
    "    if(origin == \"jfk\") :\n",
    "        origin1,origin2,origin3,origin4,origin5 = 0,0,1,0,0\n",
    "    if(origin == \"sea\") :\n",
    "        origin1,origin2,origin3,origin4,origin5 = 0,1,0,0,0\n",
    "    if(origin == \"alt\") :\n",
    "        origin1,origin2,origin3,origin4,origin5 = 0,0,0,1,0"
   ]
  },
  {
   "cell_type": "code",
   "execution_count": null,
   "id": "6cd1dc3e",
   "metadata": {},
   "outputs": [],
   "source": [
    "destination = request.form['destination']\n",
    "if(destination == \"map\") :\n",
    "    destination1, destination2, destination3, destination4, destination5 = 0,0,0,0,1\n",
    "if(destination == \"dtw\") :\n",
    "    destination1, destination2, destination3, destination4, destination5 = 1,0,0,0,0\n",
    "if(destination == \"jfk\") :\n",
    "    destination1, destination2, destination3, destination4, destination5 = 0,0,1,0,0\n",
    "if(destination == \"sea\") :\n",
    "    destination1, destination2, destination3, destination4, destination5 = 0,1,0,0,0\n",
    "if(destination == \"alt\") :\n",
    "    destination1, destination2, destination3, destination4, destination5 = 0,0,0,1,\n",
    "dept = request.form['dept']\n",
    "arrtime = request.form['arrtime']\n",
    "actdept = request.form['actdept']\n",
    "dept15=int(dept)-int(actdept)\n",
    "total = [ [name,month,dayofmonth,dayofweek,origin1,origin2,origin3,origin4,origin5, destination1, destination2, destination3, destination4, destination5,i\n",
    "y_pred = model.predict(total) \n",
    "print(y_pred)\n",
    "if(y_pred==[0.1]):\n",
    "    ans=\"The Flight will be on time\"\n",
    "else:\n",
    "     ans=\"The Flight will br delayed\"\n",
    "return render_template(\"index,html\",showcase = ans)"
   ]
  },
  {
   "cell_type": "code",
   "execution_count": null,
   "id": "b01e65eb",
   "metadata": {},
   "outputs": [],
   "source": [
    "if _name_ == '_main_':\n",
    "    app.run(debug = True)"
   ]
  },
  {
   "cell_type": "code",
   "execution_count": null,
   "id": "fc2f409d",
   "metadata": {},
   "outputs": [],
   "source": []
  }
 ],
 "metadata": {
  "kernelspec": {
   "display_name": "Python 3 (ipykernel)",
   "language": "python",
   "name": "python3"
  },
  "language_info": {
   "codemirror_mode": {
    "name": "ipython",
    "version": 3
   },
   "file_extension": ".py",
   "mimetype": "text/x-python",
   "name": "python",
   "nbconvert_exporter": "python",
   "pygments_lexer": "ipython3",
   "version": "3.9.13"
  }
 },
 "nbformat": 4,
 "nbformat_minor": 5
}
